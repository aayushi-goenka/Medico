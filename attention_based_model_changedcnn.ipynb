{
  "nbformat": 4,
  "nbformat_minor": 0,
  "metadata": {
    "colab": {
      "provenance": [],
      "include_colab_link": true
    },
    "kernelspec": {
      "name": "python3",
      "display_name": "Python 3"
    },
    "language_info": {
      "name": "python"
    },
    "gpuClass": "standard",
    "accelerator": "GPU"
  },
  "cells": [
    {
      "cell_type": "markdown",
      "metadata": {
        "id": "view-in-github",
        "colab_type": "text"
      },
      "source": [
        "<a href=\"https://colab.research.google.com/github/aayushi-goenka/Medico/blob/main/attention_based_model_changedcnn.ipynb\" target=\"_parent\"><img src=\"https://colab.research.google.com/assets/colab-badge.svg\" alt=\"Open In Colab\"/></a>"
      ]
    },
    {
      "cell_type": "code",
      "execution_count": null,
      "metadata": {
        "id": "CsKmaUpCNS09"
      },
      "outputs": [],
      "source": [
        "import tensorflow as tf\n",
        "import pandas as pd\n",
        "import numpy as np\n",
        "import os\n",
        "import re\n",
        "import matplotlib.pyplot as plt\n",
        "from sklearn.model_selection import train_test_split\n",
        "from keras.preprocessing.text import Tokenizer\n",
        "from keras.utils import pad_sequences\n",
        "from keras.utils import to_categorical\n",
        "from keras.models import Model, load_model  \n",
        "from keras.layers import Input, Dense, LSTM, Embedding, Dropout, Activation, add, Concatenate, RepeatVector, Bidirectional, Flatten, Multiply, Lambda\n",
        "from keras.callbacks import ModelCheckpoint, EarlyStopping\n",
        "from keras import optimizers\n",
        "from keras import backend as K\n",
        "from keras.utils.vis_utils import plot_model\n",
        "from IPython.display import Image, display"
      ]
    },
    {
      "cell_type": "code",
      "source": [
        "from google.colab import drive\n",
        "drive.mount('/content/drive')"
      ],
      "metadata": {
        "id": "Oymt0GeQNheb",
        "colab": {
          "base_uri": "https://localhost:8080/"
        },
        "outputId": "bc05af31-7ba1-44fc-cd1d-bd6a13a08035"
      },
      "execution_count": null,
      "outputs": [
        {
          "output_type": "stream",
          "name": "stdout",
          "text": [
            "Drive already mounted at /content/drive; to attempt to forcibly remount, call drive.mount(\"/content/drive\", force_remount=True).\n"
          ]
        }
      ]
    },
    {
      "cell_type": "code",
      "source": [
        "# Load the CSV dataset\n",
        "dataset = pd.read_csv('/content/drive/MyDrive/data1.csv')\n",
        "dataset.head(5)"
      ],
      "metadata": {
        "id": "KsERJLE1NhgT",
        "colab": {
          "base_uri": "https://localhost:8080/",
          "height": 206
        },
        "outputId": "f4f7f425-9356-46d1-8225-dc346ffcd60e"
      },
      "execution_count": null,
      "outputs": [
        {
          "output_type": "execute_result",
          "data": {
            "text/plain": [
              "   Unnamed: 0                       image_id  \\\n",
              "0           0       CXR3695_IM-1845-1001.png   \n",
              "1           1       CXR3695_IM-1845-2001.png   \n",
              "2           2       CXR3703_IM-1850-1001.png   \n",
              "3           3       CXR3703_IM-1850-2001.png   \n",
              "4           4  CXR3686_IM-1837-0001-0001.png   \n",
              "\n",
              "                                                mesh  \\\n",
              "0                          Pulmonary Congestion/mild   \n",
              "1                          Pulmonary Congestion/mild   \n",
              "2                                             normal   \n",
              "3                                             normal   \n",
              "4  Cardiomegaly Airspace Disease/lung/base/right ...   \n",
              "\n",
              "                                          Image_path  \\\n",
              "0  /content/drive/MyDrive/dataset-iu/dataset-iu-i...   \n",
              "1  /content/drive/MyDrive/dataset-iu/dataset-iu-i...   \n",
              "2  /content/drive/MyDrive/dataset-iu/dataset-iu-i...   \n",
              "3  /content/drive/MyDrive/dataset-iu/dataset-iu-i...   \n",
              "4  /content/drive/MyDrive/dataset-iu/dataset-iu-i...   \n",
              "\n",
              "                                              report  \n",
              "0  startseq mild central vascular prominence cong...  \n",
              "1  startseq mild central vascular prominence cong...  \n",
              "2  startseq no evidence acute cardiopulmonary pro...  \n",
              "3  startseq no evidence acute cardiopulmonary pro...  \n",
              "4  startseq stable cardiomegaly .  improved aerat...  "
            ],
            "text/html": [
              "\n",
              "  <div id=\"df-749f1be6-0951-432c-a4c4-3995c6fd6715\">\n",
              "    <div class=\"colab-df-container\">\n",
              "      <div>\n",
              "<style scoped>\n",
              "    .dataframe tbody tr th:only-of-type {\n",
              "        vertical-align: middle;\n",
              "    }\n",
              "\n",
              "    .dataframe tbody tr th {\n",
              "        vertical-align: top;\n",
              "    }\n",
              "\n",
              "    .dataframe thead th {\n",
              "        text-align: right;\n",
              "    }\n",
              "</style>\n",
              "<table border=\"1\" class=\"dataframe\">\n",
              "  <thead>\n",
              "    <tr style=\"text-align: right;\">\n",
              "      <th></th>\n",
              "      <th>Unnamed: 0</th>\n",
              "      <th>image_id</th>\n",
              "      <th>mesh</th>\n",
              "      <th>Image_path</th>\n",
              "      <th>report</th>\n",
              "    </tr>\n",
              "  </thead>\n",
              "  <tbody>\n",
              "    <tr>\n",
              "      <th>0</th>\n",
              "      <td>0</td>\n",
              "      <td>CXR3695_IM-1845-1001.png</td>\n",
              "      <td>Pulmonary Congestion/mild</td>\n",
              "      <td>/content/drive/MyDrive/dataset-iu/dataset-iu-i...</td>\n",
              "      <td>startseq mild central vascular prominence cong...</td>\n",
              "    </tr>\n",
              "    <tr>\n",
              "      <th>1</th>\n",
              "      <td>1</td>\n",
              "      <td>CXR3695_IM-1845-2001.png</td>\n",
              "      <td>Pulmonary Congestion/mild</td>\n",
              "      <td>/content/drive/MyDrive/dataset-iu/dataset-iu-i...</td>\n",
              "      <td>startseq mild central vascular prominence cong...</td>\n",
              "    </tr>\n",
              "    <tr>\n",
              "      <th>2</th>\n",
              "      <td>2</td>\n",
              "      <td>CXR3703_IM-1850-1001.png</td>\n",
              "      <td>normal</td>\n",
              "      <td>/content/drive/MyDrive/dataset-iu/dataset-iu-i...</td>\n",
              "      <td>startseq no evidence acute cardiopulmonary pro...</td>\n",
              "    </tr>\n",
              "    <tr>\n",
              "      <th>3</th>\n",
              "      <td>3</td>\n",
              "      <td>CXR3703_IM-1850-2001.png</td>\n",
              "      <td>normal</td>\n",
              "      <td>/content/drive/MyDrive/dataset-iu/dataset-iu-i...</td>\n",
              "      <td>startseq no evidence acute cardiopulmonary pro...</td>\n",
              "    </tr>\n",
              "    <tr>\n",
              "      <th>4</th>\n",
              "      <td>4</td>\n",
              "      <td>CXR3686_IM-1837-0001-0001.png</td>\n",
              "      <td>Cardiomegaly Airspace Disease/lung/base/right ...</td>\n",
              "      <td>/content/drive/MyDrive/dataset-iu/dataset-iu-i...</td>\n",
              "      <td>startseq stable cardiomegaly .  improved aerat...</td>\n",
              "    </tr>\n",
              "  </tbody>\n",
              "</table>\n",
              "</div>\n",
              "      <button class=\"colab-df-convert\" onclick=\"convertToInteractive('df-749f1be6-0951-432c-a4c4-3995c6fd6715')\"\n",
              "              title=\"Convert this dataframe to an interactive table.\"\n",
              "              style=\"display:none;\">\n",
              "        \n",
              "  <svg xmlns=\"http://www.w3.org/2000/svg\" height=\"24px\"viewBox=\"0 0 24 24\"\n",
              "       width=\"24px\">\n",
              "    <path d=\"M0 0h24v24H0V0z\" fill=\"none\"/>\n",
              "    <path d=\"M18.56 5.44l.94 2.06.94-2.06 2.06-.94-2.06-.94-.94-2.06-.94 2.06-2.06.94zm-11 1L8.5 8.5l.94-2.06 2.06-.94-2.06-.94L8.5 2.5l-.94 2.06-2.06.94zm10 10l.94 2.06.94-2.06 2.06-.94-2.06-.94-.94-2.06-.94 2.06-2.06.94z\"/><path d=\"M17.41 7.96l-1.37-1.37c-.4-.4-.92-.59-1.43-.59-.52 0-1.04.2-1.43.59L10.3 9.45l-7.72 7.72c-.78.78-.78 2.05 0 2.83L4 21.41c.39.39.9.59 1.41.59.51 0 1.02-.2 1.41-.59l7.78-7.78 2.81-2.81c.8-.78.8-2.07 0-2.86zM5.41 20L4 18.59l7.72-7.72 1.47 1.35L5.41 20z\"/>\n",
              "  </svg>\n",
              "      </button>\n",
              "      \n",
              "  <style>\n",
              "    .colab-df-container {\n",
              "      display:flex;\n",
              "      flex-wrap:wrap;\n",
              "      gap: 12px;\n",
              "    }\n",
              "\n",
              "    .colab-df-convert {\n",
              "      background-color: #E8F0FE;\n",
              "      border: none;\n",
              "      border-radius: 50%;\n",
              "      cursor: pointer;\n",
              "      display: none;\n",
              "      fill: #1967D2;\n",
              "      height: 32px;\n",
              "      padding: 0 0 0 0;\n",
              "      width: 32px;\n",
              "    }\n",
              "\n",
              "    .colab-df-convert:hover {\n",
              "      background-color: #E2EBFA;\n",
              "      box-shadow: 0px 1px 2px rgba(60, 64, 67, 0.3), 0px 1px 3px 1px rgba(60, 64, 67, 0.15);\n",
              "      fill: #174EA6;\n",
              "    }\n",
              "\n",
              "    [theme=dark] .colab-df-convert {\n",
              "      background-color: #3B4455;\n",
              "      fill: #D2E3FC;\n",
              "    }\n",
              "\n",
              "    [theme=dark] .colab-df-convert:hover {\n",
              "      background-color: #434B5C;\n",
              "      box-shadow: 0px 1px 3px 1px rgba(0, 0, 0, 0.15);\n",
              "      filter: drop-shadow(0px 1px 2px rgba(0, 0, 0, 0.3));\n",
              "      fill: #FFFFFF;\n",
              "    }\n",
              "  </style>\n",
              "\n",
              "      <script>\n",
              "        const buttonEl =\n",
              "          document.querySelector('#df-749f1be6-0951-432c-a4c4-3995c6fd6715 button.colab-df-convert');\n",
              "        buttonEl.style.display =\n",
              "          google.colab.kernel.accessAllowed ? 'block' : 'none';\n",
              "\n",
              "        async function convertToInteractive(key) {\n",
              "          const element = document.querySelector('#df-749f1be6-0951-432c-a4c4-3995c6fd6715');\n",
              "          const dataTable =\n",
              "            await google.colab.kernel.invokeFunction('convertToInteractive',\n",
              "                                                     [key], {});\n",
              "          if (!dataTable) return;\n",
              "\n",
              "          const docLinkHtml = 'Like what you see? Visit the ' +\n",
              "            '<a target=\"_blank\" href=https://colab.research.google.com/notebooks/data_table.ipynb>data table notebook</a>'\n",
              "            + ' to learn more about interactive tables.';\n",
              "          element.innerHTML = '';\n",
              "          dataTable['output_type'] = 'display_data';\n",
              "          await google.colab.output.renderOutput(dataTable, element);\n",
              "          const docLink = document.createElement('div');\n",
              "          docLink.innerHTML = docLinkHtml;\n",
              "          element.appendChild(docLink);\n",
              "        }\n",
              "      </script>\n",
              "    </div>\n",
              "  </div>\n",
              "  "
            ]
          },
          "metadata": {},
          "execution_count": 33
        }
      ]
    },
    {
      "cell_type": "code",
      "source": [
        "#dataset.drop(['Unnamed: 0.1'], inplace=True , axis=1)"
      ],
      "metadata": {
        "id": "DQ3BMMBENhjg"
      },
      "execution_count": null,
      "outputs": []
    },
    {
      "cell_type": "code",
      "source": [
        "dataset.drop(['Unnamed: 0'], inplace=True , axis=1)"
      ],
      "metadata": {
        "id": "7AkvUsEObid2"
      },
      "execution_count": null,
      "outputs": []
    },
    {
      "cell_type": "code",
      "source": [
        "dataset.head(5)"
      ],
      "metadata": {
        "id": "8YiWoYx1-sfe",
        "colab": {
          "base_uri": "https://localhost:8080/",
          "height": 206
        },
        "outputId": "c81a116a-ccad-431a-f221-c024599b9ce7"
      },
      "execution_count": null,
      "outputs": [
        {
          "output_type": "execute_result",
          "data": {
            "text/plain": [
              "                        image_id  \\\n",
              "0       CXR3695_IM-1845-1001.png   \n",
              "1       CXR3695_IM-1845-2001.png   \n",
              "2       CXR3703_IM-1850-1001.png   \n",
              "3       CXR3703_IM-1850-2001.png   \n",
              "4  CXR3686_IM-1837-0001-0001.png   \n",
              "\n",
              "                                                mesh  \\\n",
              "0                          Pulmonary Congestion/mild   \n",
              "1                          Pulmonary Congestion/mild   \n",
              "2                                             normal   \n",
              "3                                             normal   \n",
              "4  Cardiomegaly Airspace Disease/lung/base/right ...   \n",
              "\n",
              "                                          Image_path  \\\n",
              "0  /content/drive/MyDrive/dataset-iu/dataset-iu-i...   \n",
              "1  /content/drive/MyDrive/dataset-iu/dataset-iu-i...   \n",
              "2  /content/drive/MyDrive/dataset-iu/dataset-iu-i...   \n",
              "3  /content/drive/MyDrive/dataset-iu/dataset-iu-i...   \n",
              "4  /content/drive/MyDrive/dataset-iu/dataset-iu-i...   \n",
              "\n",
              "                                              report  \n",
              "0  startseq mild central vascular prominence cong...  \n",
              "1  startseq mild central vascular prominence cong...  \n",
              "2  startseq no evidence acute cardiopulmonary pro...  \n",
              "3  startseq no evidence acute cardiopulmonary pro...  \n",
              "4  startseq stable cardiomegaly .  improved aerat...  "
            ],
            "text/html": [
              "\n",
              "  <div id=\"df-87fb0536-1099-4cc1-b217-aacbfc581097\">\n",
              "    <div class=\"colab-df-container\">\n",
              "      <div>\n",
              "<style scoped>\n",
              "    .dataframe tbody tr th:only-of-type {\n",
              "        vertical-align: middle;\n",
              "    }\n",
              "\n",
              "    .dataframe tbody tr th {\n",
              "        vertical-align: top;\n",
              "    }\n",
              "\n",
              "    .dataframe thead th {\n",
              "        text-align: right;\n",
              "    }\n",
              "</style>\n",
              "<table border=\"1\" class=\"dataframe\">\n",
              "  <thead>\n",
              "    <tr style=\"text-align: right;\">\n",
              "      <th></th>\n",
              "      <th>image_id</th>\n",
              "      <th>mesh</th>\n",
              "      <th>Image_path</th>\n",
              "      <th>report</th>\n",
              "    </tr>\n",
              "  </thead>\n",
              "  <tbody>\n",
              "    <tr>\n",
              "      <th>0</th>\n",
              "      <td>CXR3695_IM-1845-1001.png</td>\n",
              "      <td>Pulmonary Congestion/mild</td>\n",
              "      <td>/content/drive/MyDrive/dataset-iu/dataset-iu-i...</td>\n",
              "      <td>startseq mild central vascular prominence cong...</td>\n",
              "    </tr>\n",
              "    <tr>\n",
              "      <th>1</th>\n",
              "      <td>CXR3695_IM-1845-2001.png</td>\n",
              "      <td>Pulmonary Congestion/mild</td>\n",
              "      <td>/content/drive/MyDrive/dataset-iu/dataset-iu-i...</td>\n",
              "      <td>startseq mild central vascular prominence cong...</td>\n",
              "    </tr>\n",
              "    <tr>\n",
              "      <th>2</th>\n",
              "      <td>CXR3703_IM-1850-1001.png</td>\n",
              "      <td>normal</td>\n",
              "      <td>/content/drive/MyDrive/dataset-iu/dataset-iu-i...</td>\n",
              "      <td>startseq no evidence acute cardiopulmonary pro...</td>\n",
              "    </tr>\n",
              "    <tr>\n",
              "      <th>3</th>\n",
              "      <td>CXR3703_IM-1850-2001.png</td>\n",
              "      <td>normal</td>\n",
              "      <td>/content/drive/MyDrive/dataset-iu/dataset-iu-i...</td>\n",
              "      <td>startseq no evidence acute cardiopulmonary pro...</td>\n",
              "    </tr>\n",
              "    <tr>\n",
              "      <th>4</th>\n",
              "      <td>CXR3686_IM-1837-0001-0001.png</td>\n",
              "      <td>Cardiomegaly Airspace Disease/lung/base/right ...</td>\n",
              "      <td>/content/drive/MyDrive/dataset-iu/dataset-iu-i...</td>\n",
              "      <td>startseq stable cardiomegaly .  improved aerat...</td>\n",
              "    </tr>\n",
              "  </tbody>\n",
              "</table>\n",
              "</div>\n",
              "      <button class=\"colab-df-convert\" onclick=\"convertToInteractive('df-87fb0536-1099-4cc1-b217-aacbfc581097')\"\n",
              "              title=\"Convert this dataframe to an interactive table.\"\n",
              "              style=\"display:none;\">\n",
              "        \n",
              "  <svg xmlns=\"http://www.w3.org/2000/svg\" height=\"24px\"viewBox=\"0 0 24 24\"\n",
              "       width=\"24px\">\n",
              "    <path d=\"M0 0h24v24H0V0z\" fill=\"none\"/>\n",
              "    <path d=\"M18.56 5.44l.94 2.06.94-2.06 2.06-.94-2.06-.94-.94-2.06-.94 2.06-2.06.94zm-11 1L8.5 8.5l.94-2.06 2.06-.94-2.06-.94L8.5 2.5l-.94 2.06-2.06.94zm10 10l.94 2.06.94-2.06 2.06-.94-2.06-.94-.94-2.06-.94 2.06-2.06.94z\"/><path d=\"M17.41 7.96l-1.37-1.37c-.4-.4-.92-.59-1.43-.59-.52 0-1.04.2-1.43.59L10.3 9.45l-7.72 7.72c-.78.78-.78 2.05 0 2.83L4 21.41c.39.39.9.59 1.41.59.51 0 1.02-.2 1.41-.59l7.78-7.78 2.81-2.81c.8-.78.8-2.07 0-2.86zM5.41 20L4 18.59l7.72-7.72 1.47 1.35L5.41 20z\"/>\n",
              "  </svg>\n",
              "      </button>\n",
              "      \n",
              "  <style>\n",
              "    .colab-df-container {\n",
              "      display:flex;\n",
              "      flex-wrap:wrap;\n",
              "      gap: 12px;\n",
              "    }\n",
              "\n",
              "    .colab-df-convert {\n",
              "      background-color: #E8F0FE;\n",
              "      border: none;\n",
              "      border-radius: 50%;\n",
              "      cursor: pointer;\n",
              "      display: none;\n",
              "      fill: #1967D2;\n",
              "      height: 32px;\n",
              "      padding: 0 0 0 0;\n",
              "      width: 32px;\n",
              "    }\n",
              "\n",
              "    .colab-df-convert:hover {\n",
              "      background-color: #E2EBFA;\n",
              "      box-shadow: 0px 1px 2px rgba(60, 64, 67, 0.3), 0px 1px 3px 1px rgba(60, 64, 67, 0.15);\n",
              "      fill: #174EA6;\n",
              "    }\n",
              "\n",
              "    [theme=dark] .colab-df-convert {\n",
              "      background-color: #3B4455;\n",
              "      fill: #D2E3FC;\n",
              "    }\n",
              "\n",
              "    [theme=dark] .colab-df-convert:hover {\n",
              "      background-color: #434B5C;\n",
              "      box-shadow: 0px 1px 3px 1px rgba(0, 0, 0, 0.15);\n",
              "      filter: drop-shadow(0px 1px 2px rgba(0, 0, 0, 0.3));\n",
              "      fill: #FFFFFF;\n",
              "    }\n",
              "  </style>\n",
              "\n",
              "      <script>\n",
              "        const buttonEl =\n",
              "          document.querySelector('#df-87fb0536-1099-4cc1-b217-aacbfc581097 button.colab-df-convert');\n",
              "        buttonEl.style.display =\n",
              "          google.colab.kernel.accessAllowed ? 'block' : 'none';\n",
              "\n",
              "        async function convertToInteractive(key) {\n",
              "          const element = document.querySelector('#df-87fb0536-1099-4cc1-b217-aacbfc581097');\n",
              "          const dataTable =\n",
              "            await google.colab.kernel.invokeFunction('convertToInteractive',\n",
              "                                                     [key], {});\n",
              "          if (!dataTable) return;\n",
              "\n",
              "          const docLinkHtml = 'Like what you see? Visit the ' +\n",
              "            '<a target=\"_blank\" href=https://colab.research.google.com/notebooks/data_table.ipynb>data table notebook</a>'\n",
              "            + ' to learn more about interactive tables.';\n",
              "          element.innerHTML = '';\n",
              "          dataTable['output_type'] = 'display_data';\n",
              "          await google.colab.output.renderOutput(dataTable, element);\n",
              "          const docLink = document.createElement('div');\n",
              "          docLink.innerHTML = docLinkHtml;\n",
              "          element.appendChild(docLink);\n",
              "        }\n",
              "      </script>\n",
              "    </div>\n",
              "  </div>\n",
              "  "
            ]
          },
          "metadata": {},
          "execution_count": 36
        }
      ]
    },
    {
      "cell_type": "code",
      "source": [
        "dataset.shape"
      ],
      "metadata": {
        "id": "qVIKMdxDXgxE",
        "colab": {
          "base_uri": "https://localhost:8080/"
        },
        "outputId": "327956b4-1355-4784-d093-b19f81ace637"
      },
      "execution_count": null,
      "outputs": [
        {
          "output_type": "execute_result",
          "data": {
            "text/plain": [
              "(7430, 4)"
            ]
          },
          "metadata": {},
          "execution_count": 37
        }
      ]
    },
    {
      "cell_type": "code",
      "source": [
        "dataset.info"
      ],
      "metadata": {
        "id": "ZJUZlq1b8SFP",
        "colab": {
          "base_uri": "https://localhost:8080/"
        },
        "outputId": "dc7248e9-24e2-4f4a-df94-f52ffecb2560"
      },
      "execution_count": null,
      "outputs": [
        {
          "output_type": "execute_result",
          "data": {
            "text/plain": [
              "<bound method DataFrame.info of                            image_id  \\\n",
              "0          CXR3695_IM-1845-1001.png   \n",
              "1          CXR3695_IM-1845-2001.png   \n",
              "2          CXR3703_IM-1850-1001.png   \n",
              "3          CXR3703_IM-1850-2001.png   \n",
              "4     CXR3686_IM-1837-0001-0001.png   \n",
              "...                             ...   \n",
              "7425       CXR1842_IM-0545-1002.png   \n",
              "7426       CXR1863_IM-0558-1001.png   \n",
              "7427       CXR1863_IM-0558-3001.png   \n",
              "7428        CXR186_IM-0558-1001.png   \n",
              "7429        CXR186_IM-0558-2001.png   \n",
              "\n",
              "                                                   mesh  \\\n",
              "0                             Pulmonary Congestion/mild   \n",
              "1                             Pulmonary Congestion/mild   \n",
              "2                                                normal   \n",
              "3                                                normal   \n",
              "4     Cardiomegaly Airspace Disease/lung/base/right ...   \n",
              "...                                                 ...   \n",
              "7425  Nodule/lung/middle lobe/right Calcinosis/lung/...   \n",
              "7426  Cardiomegaly/mild Aorta/tortuous Lung/hypoinfl...   \n",
              "7427  Cardiomegaly/mild Aorta/tortuous Lung/hypoinfl...   \n",
              "7428                                             normal   \n",
              "7429                                             normal   \n",
              "\n",
              "                                             Image_path  \\\n",
              "0     /content/drive/MyDrive/dataset-iu/dataset-iu-i...   \n",
              "1     /content/drive/MyDrive/dataset-iu/dataset-iu-i...   \n",
              "2     /content/drive/MyDrive/dataset-iu/dataset-iu-i...   \n",
              "3     /content/drive/MyDrive/dataset-iu/dataset-iu-i...   \n",
              "4     /content/drive/MyDrive/dataset-iu/dataset-iu-i...   \n",
              "...                                                 ...   \n",
              "7425  /content/drive/MyDrive/dataset-iu/dataset-iu-i...   \n",
              "7426  /content/drive/MyDrive/dataset-iu/dataset-iu-i...   \n",
              "7427  /content/drive/MyDrive/dataset-iu/dataset-iu-i...   \n",
              "7428  /content/drive/MyDrive/dataset-iu/dataset-iu-i...   \n",
              "7429  /content/drive/MyDrive/dataset-iu/dataset-iu-i...   \n",
              "\n",
              "                                                 report  \n",
              "0     startseq mild central vascular prominence cong...  \n",
              "1     startseq mild central vascular prominence cong...  \n",
              "2     startseq no evidence acute cardiopulmonary pro...  \n",
              "3     startseq no evidence acute cardiopulmonary pro...  \n",
              "4     startseq stable cardiomegaly .  improved aerat...  \n",
              "...                                                 ...  \n",
              "7425  startseq heart size normal .  lungs clear .  s...  \n",
              "7426  startseq low volume study without acute proces...  \n",
              "7427  startseq low volume study without acute proces...  \n",
              "7428  startseq no acute cardiopulmonary abnormalitie...  \n",
              "7429  startseq no acute cardiopulmonary abnormalitie...  \n",
              "\n",
              "[7430 rows x 4 columns]>"
            ]
          },
          "metadata": {},
          "execution_count": 38
        }
      ]
    },
    {
      "cell_type": "code",
      "source": [
        "df = dataset.drop_duplicates(subset=[\"report\"], keep=\"first\"). reset_index(drop=True)\n",
        "df"
      ],
      "metadata": {
        "id": "fA4DnIU28sNn",
        "colab": {
          "base_uri": "https://localhost:8080/",
          "height": 423
        },
        "outputId": "5ef523b2-f569-4d90-c426-5e90b657717e"
      },
      "execution_count": null,
      "outputs": [
        {
          "output_type": "execute_result",
          "data": {
            "text/plain": [
              "                           image_id  \\\n",
              "0          CXR3695_IM-1845-1001.png   \n",
              "1          CXR3703_IM-1850-1001.png   \n",
              "2     CXR3686_IM-1837-0001-0001.png   \n",
              "3          CXR3677_IM-1830-1001.png   \n",
              "4          CXR3671_IM-1827-1001.png   \n",
              "...                             ...   \n",
              "3033       CXR1883_IM-0572-1001.png   \n",
              "3034       CXR1889_IM-0577-1001.png   \n",
              "3035       CXR1842_IM-0545-1001.png   \n",
              "3036       CXR1863_IM-0558-1001.png   \n",
              "3037        CXR186_IM-0558-1001.png   \n",
              "\n",
              "                                                   mesh  \\\n",
              "0                             Pulmonary Congestion/mild   \n",
              "1                                                normal   \n",
              "2     Cardiomegaly Airspace Disease/lung/base/right ...   \n",
              "3                                        Aorta/tortuous   \n",
              "4     Opacity/lung/upper lobe/right/patchy/mild Infi...   \n",
              "...                                                 ...   \n",
              "3033                 Surgical Instruments/abdomen/right   \n",
              "3034  Diaphragm/right/elevated Pulmonary Atelectasis...   \n",
              "3035  Nodule/lung/middle lobe/right Calcinosis/lung/...   \n",
              "3036  Cardiomegaly/mild Aorta/tortuous Lung/hypoinfl...   \n",
              "3037                                             normal   \n",
              "\n",
              "                                             Image_path  \\\n",
              "0     /content/drive/MyDrive/dataset-iu/dataset-iu-i...   \n",
              "1     /content/drive/MyDrive/dataset-iu/dataset-iu-i...   \n",
              "2     /content/drive/MyDrive/dataset-iu/dataset-iu-i...   \n",
              "3     /content/drive/MyDrive/dataset-iu/dataset-iu-i...   \n",
              "4     /content/drive/MyDrive/dataset-iu/dataset-iu-i...   \n",
              "...                                                 ...   \n",
              "3033  /content/drive/MyDrive/dataset-iu/dataset-iu-i...   \n",
              "3034  /content/drive/MyDrive/dataset-iu/dataset-iu-i...   \n",
              "3035  /content/drive/MyDrive/dataset-iu/dataset-iu-i...   \n",
              "3036  /content/drive/MyDrive/dataset-iu/dataset-iu-i...   \n",
              "3037  /content/drive/MyDrive/dataset-iu/dataset-iu-i...   \n",
              "\n",
              "                                                 report  \n",
              "0     startseq mild central vascular prominence cong...  \n",
              "1     startseq no evidence acute cardiopulmonary pro...  \n",
              "2     startseq stable cardiomegaly .  improved aerat...  \n",
              "3     startseq no active disease . heart size within...  \n",
              "4     startseq persistent mild right upper lobe infi...  \n",
              "...                                                 ...  \n",
              "3033  startseq no acute active cardiac pulmonary ple...  \n",
              "3034  startseq atelectasis the right lung base .  el...  \n",
              "3035  startseq heart size normal .  lungs clear .  s...  \n",
              "3036  startseq low volume study without acute proces...  \n",
              "3037  startseq no acute cardiopulmonary abnormalitie...  \n",
              "\n",
              "[3038 rows x 4 columns]"
            ],
            "text/html": [
              "\n",
              "  <div id=\"df-c3a394c7-1aa0-4223-bf16-859718cfdc62\">\n",
              "    <div class=\"colab-df-container\">\n",
              "      <div>\n",
              "<style scoped>\n",
              "    .dataframe tbody tr th:only-of-type {\n",
              "        vertical-align: middle;\n",
              "    }\n",
              "\n",
              "    .dataframe tbody tr th {\n",
              "        vertical-align: top;\n",
              "    }\n",
              "\n",
              "    .dataframe thead th {\n",
              "        text-align: right;\n",
              "    }\n",
              "</style>\n",
              "<table border=\"1\" class=\"dataframe\">\n",
              "  <thead>\n",
              "    <tr style=\"text-align: right;\">\n",
              "      <th></th>\n",
              "      <th>image_id</th>\n",
              "      <th>mesh</th>\n",
              "      <th>Image_path</th>\n",
              "      <th>report</th>\n",
              "    </tr>\n",
              "  </thead>\n",
              "  <tbody>\n",
              "    <tr>\n",
              "      <th>0</th>\n",
              "      <td>CXR3695_IM-1845-1001.png</td>\n",
              "      <td>Pulmonary Congestion/mild</td>\n",
              "      <td>/content/drive/MyDrive/dataset-iu/dataset-iu-i...</td>\n",
              "      <td>startseq mild central vascular prominence cong...</td>\n",
              "    </tr>\n",
              "    <tr>\n",
              "      <th>1</th>\n",
              "      <td>CXR3703_IM-1850-1001.png</td>\n",
              "      <td>normal</td>\n",
              "      <td>/content/drive/MyDrive/dataset-iu/dataset-iu-i...</td>\n",
              "      <td>startseq no evidence acute cardiopulmonary pro...</td>\n",
              "    </tr>\n",
              "    <tr>\n",
              "      <th>2</th>\n",
              "      <td>CXR3686_IM-1837-0001-0001.png</td>\n",
              "      <td>Cardiomegaly Airspace Disease/lung/base/right ...</td>\n",
              "      <td>/content/drive/MyDrive/dataset-iu/dataset-iu-i...</td>\n",
              "      <td>startseq stable cardiomegaly .  improved aerat...</td>\n",
              "    </tr>\n",
              "    <tr>\n",
              "      <th>3</th>\n",
              "      <td>CXR3677_IM-1830-1001.png</td>\n",
              "      <td>Aorta/tortuous</td>\n",
              "      <td>/content/drive/MyDrive/dataset-iu/dataset-iu-i...</td>\n",
              "      <td>startseq no active disease . heart size within...</td>\n",
              "    </tr>\n",
              "    <tr>\n",
              "      <th>4</th>\n",
              "      <td>CXR3671_IM-1827-1001.png</td>\n",
              "      <td>Opacity/lung/upper lobe/right/patchy/mild Infi...</td>\n",
              "      <td>/content/drive/MyDrive/dataset-iu/dataset-iu-i...</td>\n",
              "      <td>startseq persistent mild right upper lobe infi...</td>\n",
              "    </tr>\n",
              "    <tr>\n",
              "      <th>...</th>\n",
              "      <td>...</td>\n",
              "      <td>...</td>\n",
              "      <td>...</td>\n",
              "      <td>...</td>\n",
              "    </tr>\n",
              "    <tr>\n",
              "      <th>3033</th>\n",
              "      <td>CXR1883_IM-0572-1001.png</td>\n",
              "      <td>Surgical Instruments/abdomen/right</td>\n",
              "      <td>/content/drive/MyDrive/dataset-iu/dataset-iu-i...</td>\n",
              "      <td>startseq no acute active cardiac pulmonary ple...</td>\n",
              "    </tr>\n",
              "    <tr>\n",
              "      <th>3034</th>\n",
              "      <td>CXR1889_IM-0577-1001.png</td>\n",
              "      <td>Diaphragm/right/elevated Pulmonary Atelectasis...</td>\n",
              "      <td>/content/drive/MyDrive/dataset-iu/dataset-iu-i...</td>\n",
              "      <td>startseq atelectasis the right lung base .  el...</td>\n",
              "    </tr>\n",
              "    <tr>\n",
              "      <th>3035</th>\n",
              "      <td>CXR1842_IM-0545-1001.png</td>\n",
              "      <td>Nodule/lung/middle lobe/right Calcinosis/lung/...</td>\n",
              "      <td>/content/drive/MyDrive/dataset-iu/dataset-iu-i...</td>\n",
              "      <td>startseq heart size normal .  lungs clear .  s...</td>\n",
              "    </tr>\n",
              "    <tr>\n",
              "      <th>3036</th>\n",
              "      <td>CXR1863_IM-0558-1001.png</td>\n",
              "      <td>Cardiomegaly/mild Aorta/tortuous Lung/hypoinfl...</td>\n",
              "      <td>/content/drive/MyDrive/dataset-iu/dataset-iu-i...</td>\n",
              "      <td>startseq low volume study without acute proces...</td>\n",
              "    </tr>\n",
              "    <tr>\n",
              "      <th>3037</th>\n",
              "      <td>CXR186_IM-0558-1001.png</td>\n",
              "      <td>normal</td>\n",
              "      <td>/content/drive/MyDrive/dataset-iu/dataset-iu-i...</td>\n",
              "      <td>startseq no acute cardiopulmonary abnormalitie...</td>\n",
              "    </tr>\n",
              "  </tbody>\n",
              "</table>\n",
              "<p>3038 rows × 4 columns</p>\n",
              "</div>\n",
              "      <button class=\"colab-df-convert\" onclick=\"convertToInteractive('df-c3a394c7-1aa0-4223-bf16-859718cfdc62')\"\n",
              "              title=\"Convert this dataframe to an interactive table.\"\n",
              "              style=\"display:none;\">\n",
              "        \n",
              "  <svg xmlns=\"http://www.w3.org/2000/svg\" height=\"24px\"viewBox=\"0 0 24 24\"\n",
              "       width=\"24px\">\n",
              "    <path d=\"M0 0h24v24H0V0z\" fill=\"none\"/>\n",
              "    <path d=\"M18.56 5.44l.94 2.06.94-2.06 2.06-.94-2.06-.94-.94-2.06-.94 2.06-2.06.94zm-11 1L8.5 8.5l.94-2.06 2.06-.94-2.06-.94L8.5 2.5l-.94 2.06-2.06.94zm10 10l.94 2.06.94-2.06 2.06-.94-2.06-.94-.94-2.06-.94 2.06-2.06.94z\"/><path d=\"M17.41 7.96l-1.37-1.37c-.4-.4-.92-.59-1.43-.59-.52 0-1.04.2-1.43.59L10.3 9.45l-7.72 7.72c-.78.78-.78 2.05 0 2.83L4 21.41c.39.39.9.59 1.41.59.51 0 1.02-.2 1.41-.59l7.78-7.78 2.81-2.81c.8-.78.8-2.07 0-2.86zM5.41 20L4 18.59l7.72-7.72 1.47 1.35L5.41 20z\"/>\n",
              "  </svg>\n",
              "      </button>\n",
              "      \n",
              "  <style>\n",
              "    .colab-df-container {\n",
              "      display:flex;\n",
              "      flex-wrap:wrap;\n",
              "      gap: 12px;\n",
              "    }\n",
              "\n",
              "    .colab-df-convert {\n",
              "      background-color: #E8F0FE;\n",
              "      border: none;\n",
              "      border-radius: 50%;\n",
              "      cursor: pointer;\n",
              "      display: none;\n",
              "      fill: #1967D2;\n",
              "      height: 32px;\n",
              "      padding: 0 0 0 0;\n",
              "      width: 32px;\n",
              "    }\n",
              "\n",
              "    .colab-df-convert:hover {\n",
              "      background-color: #E2EBFA;\n",
              "      box-shadow: 0px 1px 2px rgba(60, 64, 67, 0.3), 0px 1px 3px 1px rgba(60, 64, 67, 0.15);\n",
              "      fill: #174EA6;\n",
              "    }\n",
              "\n",
              "    [theme=dark] .colab-df-convert {\n",
              "      background-color: #3B4455;\n",
              "      fill: #D2E3FC;\n",
              "    }\n",
              "\n",
              "    [theme=dark] .colab-df-convert:hover {\n",
              "      background-color: #434B5C;\n",
              "      box-shadow: 0px 1px 3px 1px rgba(0, 0, 0, 0.15);\n",
              "      filter: drop-shadow(0px 1px 2px rgba(0, 0, 0, 0.3));\n",
              "      fill: #FFFFFF;\n",
              "    }\n",
              "  </style>\n",
              "\n",
              "      <script>\n",
              "        const buttonEl =\n",
              "          document.querySelector('#df-c3a394c7-1aa0-4223-bf16-859718cfdc62 button.colab-df-convert');\n",
              "        buttonEl.style.display =\n",
              "          google.colab.kernel.accessAllowed ? 'block' : 'none';\n",
              "\n",
              "        async function convertToInteractive(key) {\n",
              "          const element = document.querySelector('#df-c3a394c7-1aa0-4223-bf16-859718cfdc62');\n",
              "          const dataTable =\n",
              "            await google.colab.kernel.invokeFunction('convertToInteractive',\n",
              "                                                     [key], {});\n",
              "          if (!dataTable) return;\n",
              "\n",
              "          const docLinkHtml = 'Like what you see? Visit the ' +\n",
              "            '<a target=\"_blank\" href=https://colab.research.google.com/notebooks/data_table.ipynb>data table notebook</a>'\n",
              "            + ' to learn more about interactive tables.';\n",
              "          element.innerHTML = '';\n",
              "          dataTable['output_type'] = 'display_data';\n",
              "          await google.colab.output.renderOutput(dataTable, element);\n",
              "          const docLink = document.createElement('div');\n",
              "          docLink.innerHTML = docLinkHtml;\n",
              "          element.appendChild(docLink);\n",
              "        }\n",
              "      </script>\n",
              "    </div>\n",
              "  </div>\n",
              "  "
            ]
          },
          "metadata": {},
          "execution_count": 39
        }
      ]
    },
    {
      "cell_type": "code",
      "source": [
        "df = df.sample(frac=1). reset_index(drop=True)\n",
        "df"
      ],
      "metadata": {
        "id": "ZHxpowQQ-XXn",
        "colab": {
          "base_uri": "https://localhost:8080/",
          "height": 423
        },
        "outputId": "12a867f2-9c09-4a27-a112-a5c6b3e83b81"
      },
      "execution_count": null,
      "outputs": [
        {
          "output_type": "execute_result",
          "data": {
            "text/plain": [
              "                           image_id  \\\n",
              "0          CXR2233_IM-0832-1001.png   \n",
              "1          CXR3502_IM-1707-1001.png   \n",
              "2           CXR568_IM-2168-1001.png   \n",
              "3          CXR1799_IM-0519-1001.png   \n",
              "4          CXR3704_IM-1851-1001.png   \n",
              "...                             ...   \n",
              "3033       CXR2114_IM-0743-1001.png   \n",
              "3034       CXR1233_IM-0157-1001.png   \n",
              "3035       CXR1075_IM-0054-1001.png   \n",
              "3036  CXR3382_IM-1629-0001-0001.png   \n",
              "3037       CXR2511_IM-1034-1001.png   \n",
              "\n",
              "                                                   mesh  \\\n",
              "0     Lung/hyperdistention Diaphragm/bilateral/flatt...   \n",
              "1     Surgical Instruments/thorax Cardiomegaly Pulmo...   \n",
              "2     Aorta/tortuous Calcinosis/lung/hilum/lymph nod...   \n",
              "3                                                normal   \n",
              "4                                                normal   \n",
              "...                                                 ...   \n",
              "3033  Technical Quality of Image Unsatisfactory  Lun...   \n",
              "3034  Cardiac Shadow/enlarged Lung/hypoinflation Dia...   \n",
              "3035  Lung/hyperdistention Pulmonary Emphysema/sever...   \n",
              "3036  Markings/lung/interstitial/prominent Pleural E...   \n",
              "3037  Sutures/lung/upper lobe/left Cicatrix/costophr...   \n",
              "\n",
              "                                             Image_path  \\\n",
              "0     /content/drive/MyDrive/dataset-iu/dataset-iu-i...   \n",
              "1     /content/drive/MyDrive/dataset-iu/dataset-iu-i...   \n",
              "2     /content/drive/MyDrive/dataset-iu/dataset-iu-i...   \n",
              "3     /content/drive/MyDrive/dataset-iu/dataset-iu-i...   \n",
              "4     /content/drive/MyDrive/dataset-iu/dataset-iu-i...   \n",
              "...                                                 ...   \n",
              "3033  /content/drive/MyDrive/dataset-iu/dataset-iu-i...   \n",
              "3034  /content/drive/MyDrive/dataset-iu/dataset-iu-i...   \n",
              "3035  /content/drive/MyDrive/dataset-iu/dataset-iu-i...   \n",
              "3036  /content/drive/MyDrive/dataset-iu/dataset-iu-i...   \n",
              "3037  /content/drive/MyDrive/dataset-iu/dataset-iu-i...   \n",
              "\n",
              "                                                 report  \n",
              "0     startseq hyperinflated lungs air trapping vers...  \n",
              "1     startseq cardiomegaly with surgical changes ca...  \n",
              "2     startseq no acute cardiopulmonary finding . he...  \n",
              "3     startseq no acute right pulmonary findings . h...  \n",
              "4     startseq negative for acute cardiopulmonary ab...  \n",
              "...                                                 ...  \n",
              "3033  startseq eam quality limited hypoventilation a...  \n",
              "3034  startseq cardiomegaly without heart failure . ...  \n",
              "3035  startseq severe emphysema .  irregular pleural...  \n",
              "3036  startseq small bilateral pleural effusions .  ...  \n",
              "3037  startseq no acute abnormality . sternotomy not...  \n",
              "\n",
              "[3038 rows x 4 columns]"
            ],
            "text/html": [
              "\n",
              "  <div id=\"df-8bcd28e5-c89f-4155-b0ef-8af4f1fa7155\">\n",
              "    <div class=\"colab-df-container\">\n",
              "      <div>\n",
              "<style scoped>\n",
              "    .dataframe tbody tr th:only-of-type {\n",
              "        vertical-align: middle;\n",
              "    }\n",
              "\n",
              "    .dataframe tbody tr th {\n",
              "        vertical-align: top;\n",
              "    }\n",
              "\n",
              "    .dataframe thead th {\n",
              "        text-align: right;\n",
              "    }\n",
              "</style>\n",
              "<table border=\"1\" class=\"dataframe\">\n",
              "  <thead>\n",
              "    <tr style=\"text-align: right;\">\n",
              "      <th></th>\n",
              "      <th>image_id</th>\n",
              "      <th>mesh</th>\n",
              "      <th>Image_path</th>\n",
              "      <th>report</th>\n",
              "    </tr>\n",
              "  </thead>\n",
              "  <tbody>\n",
              "    <tr>\n",
              "      <th>0</th>\n",
              "      <td>CXR2233_IM-0832-1001.png</td>\n",
              "      <td>Lung/hyperdistention Diaphragm/bilateral/flatt...</td>\n",
              "      <td>/content/drive/MyDrive/dataset-iu/dataset-iu-i...</td>\n",
              "      <td>startseq hyperinflated lungs air trapping vers...</td>\n",
              "    </tr>\n",
              "    <tr>\n",
              "      <th>1</th>\n",
              "      <td>CXR3502_IM-1707-1001.png</td>\n",
              "      <td>Surgical Instruments/thorax Cardiomegaly Pulmo...</td>\n",
              "      <td>/content/drive/MyDrive/dataset-iu/dataset-iu-i...</td>\n",
              "      <td>startseq cardiomegaly with surgical changes ca...</td>\n",
              "    </tr>\n",
              "    <tr>\n",
              "      <th>2</th>\n",
              "      <td>CXR568_IM-2168-1001.png</td>\n",
              "      <td>Aorta/tortuous Calcinosis/lung/hilum/lymph nod...</td>\n",
              "      <td>/content/drive/MyDrive/dataset-iu/dataset-iu-i...</td>\n",
              "      <td>startseq no acute cardiopulmonary finding . he...</td>\n",
              "    </tr>\n",
              "    <tr>\n",
              "      <th>3</th>\n",
              "      <td>CXR1799_IM-0519-1001.png</td>\n",
              "      <td>normal</td>\n",
              "      <td>/content/drive/MyDrive/dataset-iu/dataset-iu-i...</td>\n",
              "      <td>startseq no acute right pulmonary findings . h...</td>\n",
              "    </tr>\n",
              "    <tr>\n",
              "      <th>4</th>\n",
              "      <td>CXR3704_IM-1851-1001.png</td>\n",
              "      <td>normal</td>\n",
              "      <td>/content/drive/MyDrive/dataset-iu/dataset-iu-i...</td>\n",
              "      <td>startseq negative for acute cardiopulmonary ab...</td>\n",
              "    </tr>\n",
              "    <tr>\n",
              "      <th>...</th>\n",
              "      <td>...</td>\n",
              "      <td>...</td>\n",
              "      <td>...</td>\n",
              "      <td>...</td>\n",
              "    </tr>\n",
              "    <tr>\n",
              "      <th>3033</th>\n",
              "      <td>CXR2114_IM-0743-1001.png</td>\n",
              "      <td>Technical Quality of Image Unsatisfactory  Lun...</td>\n",
              "      <td>/content/drive/MyDrive/dataset-iu/dataset-iu-i...</td>\n",
              "      <td>startseq eam quality limited hypoventilation a...</td>\n",
              "    </tr>\n",
              "    <tr>\n",
              "      <th>3034</th>\n",
              "      <td>CXR1233_IM-0157-1001.png</td>\n",
              "      <td>Cardiac Shadow/enlarged Lung/hypoinflation Dia...</td>\n",
              "      <td>/content/drive/MyDrive/dataset-iu/dataset-iu-i...</td>\n",
              "      <td>startseq cardiomegaly without heart failure . ...</td>\n",
              "    </tr>\n",
              "    <tr>\n",
              "      <th>3035</th>\n",
              "      <td>CXR1075_IM-0054-1001.png</td>\n",
              "      <td>Lung/hyperdistention Pulmonary Emphysema/sever...</td>\n",
              "      <td>/content/drive/MyDrive/dataset-iu/dataset-iu-i...</td>\n",
              "      <td>startseq severe emphysema .  irregular pleural...</td>\n",
              "    </tr>\n",
              "    <tr>\n",
              "      <th>3036</th>\n",
              "      <td>CXR3382_IM-1629-0001-0001.png</td>\n",
              "      <td>Markings/lung/interstitial/prominent Pleural E...</td>\n",
              "      <td>/content/drive/MyDrive/dataset-iu/dataset-iu-i...</td>\n",
              "      <td>startseq small bilateral pleural effusions .  ...</td>\n",
              "    </tr>\n",
              "    <tr>\n",
              "      <th>3037</th>\n",
              "      <td>CXR2511_IM-1034-1001.png</td>\n",
              "      <td>Sutures/lung/upper lobe/left Cicatrix/costophr...</td>\n",
              "      <td>/content/drive/MyDrive/dataset-iu/dataset-iu-i...</td>\n",
              "      <td>startseq no acute abnormality . sternotomy not...</td>\n",
              "    </tr>\n",
              "  </tbody>\n",
              "</table>\n",
              "<p>3038 rows × 4 columns</p>\n",
              "</div>\n",
              "      <button class=\"colab-df-convert\" onclick=\"convertToInteractive('df-8bcd28e5-c89f-4155-b0ef-8af4f1fa7155')\"\n",
              "              title=\"Convert this dataframe to an interactive table.\"\n",
              "              style=\"display:none;\">\n",
              "        \n",
              "  <svg xmlns=\"http://www.w3.org/2000/svg\" height=\"24px\"viewBox=\"0 0 24 24\"\n",
              "       width=\"24px\">\n",
              "    <path d=\"M0 0h24v24H0V0z\" fill=\"none\"/>\n",
              "    <path d=\"M18.56 5.44l.94 2.06.94-2.06 2.06-.94-2.06-.94-.94-2.06-.94 2.06-2.06.94zm-11 1L8.5 8.5l.94-2.06 2.06-.94-2.06-.94L8.5 2.5l-.94 2.06-2.06.94zm10 10l.94 2.06.94-2.06 2.06-.94-2.06-.94-.94-2.06-.94 2.06-2.06.94z\"/><path d=\"M17.41 7.96l-1.37-1.37c-.4-.4-.92-.59-1.43-.59-.52 0-1.04.2-1.43.59L10.3 9.45l-7.72 7.72c-.78.78-.78 2.05 0 2.83L4 21.41c.39.39.9.59 1.41.59.51 0 1.02-.2 1.41-.59l7.78-7.78 2.81-2.81c.8-.78.8-2.07 0-2.86zM5.41 20L4 18.59l7.72-7.72 1.47 1.35L5.41 20z\"/>\n",
              "  </svg>\n",
              "      </button>\n",
              "      \n",
              "  <style>\n",
              "    .colab-df-container {\n",
              "      display:flex;\n",
              "      flex-wrap:wrap;\n",
              "      gap: 12px;\n",
              "    }\n",
              "\n",
              "    .colab-df-convert {\n",
              "      background-color: #E8F0FE;\n",
              "      border: none;\n",
              "      border-radius: 50%;\n",
              "      cursor: pointer;\n",
              "      display: none;\n",
              "      fill: #1967D2;\n",
              "      height: 32px;\n",
              "      padding: 0 0 0 0;\n",
              "      width: 32px;\n",
              "    }\n",
              "\n",
              "    .colab-df-convert:hover {\n",
              "      background-color: #E2EBFA;\n",
              "      box-shadow: 0px 1px 2px rgba(60, 64, 67, 0.3), 0px 1px 3px 1px rgba(60, 64, 67, 0.15);\n",
              "      fill: #174EA6;\n",
              "    }\n",
              "\n",
              "    [theme=dark] .colab-df-convert {\n",
              "      background-color: #3B4455;\n",
              "      fill: #D2E3FC;\n",
              "    }\n",
              "\n",
              "    [theme=dark] .colab-df-convert:hover {\n",
              "      background-color: #434B5C;\n",
              "      box-shadow: 0px 1px 3px 1px rgba(0, 0, 0, 0.15);\n",
              "      filter: drop-shadow(0px 1px 2px rgba(0, 0, 0, 0.3));\n",
              "      fill: #FFFFFF;\n",
              "    }\n",
              "  </style>\n",
              "\n",
              "      <script>\n",
              "        const buttonEl =\n",
              "          document.querySelector('#df-8bcd28e5-c89f-4155-b0ef-8af4f1fa7155 button.colab-df-convert');\n",
              "        buttonEl.style.display =\n",
              "          google.colab.kernel.accessAllowed ? 'block' : 'none';\n",
              "\n",
              "        async function convertToInteractive(key) {\n",
              "          const element = document.querySelector('#df-8bcd28e5-c89f-4155-b0ef-8af4f1fa7155');\n",
              "          const dataTable =\n",
              "            await google.colab.kernel.invokeFunction('convertToInteractive',\n",
              "                                                     [key], {});\n",
              "          if (!dataTable) return;\n",
              "\n",
              "          const docLinkHtml = 'Like what you see? Visit the ' +\n",
              "            '<a target=\"_blank\" href=https://colab.research.google.com/notebooks/data_table.ipynb>data table notebook</a>'\n",
              "            + ' to learn more about interactive tables.';\n",
              "          element.innerHTML = '';\n",
              "          dataTable['output_type'] = 'display_data';\n",
              "          await google.colab.output.renderOutput(dataTable, element);\n",
              "          const docLink = document.createElement('div');\n",
              "          docLink.innerHTML = docLinkHtml;\n",
              "          element.appendChild(docLink);\n",
              "        }\n",
              "      </script>\n",
              "    </div>\n",
              "  </div>\n",
              "  "
            ]
          },
          "metadata": {},
          "execution_count": 40
        }
      ]
    },
    {
      "cell_type": "code",
      "source": [],
      "metadata": {
        "id": "Q3whaqIBA2ED"
      },
      "execution_count": null,
      "outputs": []
    },
    {
      "cell_type": "code",
      "source": [
        "train_data=df.iloc[:500]\n",
        "train_data"
      ],
      "metadata": {
        "id": "13oWlpJJ-Xjp",
        "colab": {
          "base_uri": "https://localhost:8080/",
          "height": 423
        },
        "outputId": "f00b8d71-b9aa-4b36-9788-9ab798f191fb"
      },
      "execution_count": null,
      "outputs": [
        {
          "output_type": "execute_result",
          "data": {
            "text/plain": [
              "                          image_id  \\\n",
              "0         CXR2233_IM-0832-1001.png   \n",
              "1         CXR3502_IM-1707-1001.png   \n",
              "2          CXR568_IM-2168-1001.png   \n",
              "3         CXR1799_IM-0519-1001.png   \n",
              "4         CXR3704_IM-1851-1001.png   \n",
              "..                             ...   \n",
              "495        CXR362_IM-1791-1001.png   \n",
              "496       CXR2315_IM-0889-1002.png   \n",
              "497  CXR3744_IM-1871-0001-0001.png   \n",
              "498        CXR820_IM-2351-1001.png   \n",
              "499       CXR3795_IM-1909-1001.png   \n",
              "\n",
              "                                                  mesh  \\\n",
              "0    Lung/hyperdistention Diaphragm/bilateral/flatt...   \n",
              "1    Surgical Instruments/thorax Cardiomegaly Pulmo...   \n",
              "2    Aorta/tortuous Calcinosis/lung/hilum/lymph nod...   \n",
              "3                                               normal   \n",
              "4                                               normal   \n",
              "..                                                 ...   \n",
              "495                                             normal   \n",
              "496                   Calcified Granuloma/lung/lingula   \n",
              "497                                             normal   \n",
              "498  Osteophyte/thoracic vertebrae/multiple Nodule/...   \n",
              "499        Scoliosis/thoracic vertebrae/right/moderate   \n",
              "\n",
              "                                            Image_path  \\\n",
              "0    /content/drive/MyDrive/dataset-iu/dataset-iu-i...   \n",
              "1    /content/drive/MyDrive/dataset-iu/dataset-iu-i...   \n",
              "2    /content/drive/MyDrive/dataset-iu/dataset-iu-i...   \n",
              "3    /content/drive/MyDrive/dataset-iu/dataset-iu-i...   \n",
              "4    /content/drive/MyDrive/dataset-iu/dataset-iu-i...   \n",
              "..                                                 ...   \n",
              "495  /content/drive/MyDrive/dataset-iu/dataset-iu-i...   \n",
              "496  /content/drive/MyDrive/dataset-iu/dataset-iu-i...   \n",
              "497  /content/drive/MyDrive/dataset-iu/dataset-iu-i...   \n",
              "498  /content/drive/MyDrive/dataset-iu/dataset-iu-i...   \n",
              "499  /content/drive/MyDrive/dataset-iu/dataset-iu-i...   \n",
              "\n",
              "                                                report  \n",
              "0    startseq hyperinflated lungs air trapping vers...  \n",
              "1    startseq cardiomegaly with surgical changes ca...  \n",
              "2    startseq no acute cardiopulmonary finding . he...  \n",
              "3    startseq no acute right pulmonary findings . h...  \n",
              "4    startseq negative for acute cardiopulmonary ab...  \n",
              "..                                                 ...  \n",
              "495  startseq heart size normal and lungs are clear...  \n",
              "496  startseq no acute radiographic cardiopulmonary...  \n",
              "497  startseq normal heart size .  normal pulmonary...  \n",
              "498  startseq no acute cardiopulmonary abnormality ...  \n",
              "499  startseq no acute changes from prior imaging ....  \n",
              "\n",
              "[500 rows x 4 columns]"
            ],
            "text/html": [
              "\n",
              "  <div id=\"df-702d37bd-c3a0-4532-92b8-c15afba7d8e4\">\n",
              "    <div class=\"colab-df-container\">\n",
              "      <div>\n",
              "<style scoped>\n",
              "    .dataframe tbody tr th:only-of-type {\n",
              "        vertical-align: middle;\n",
              "    }\n",
              "\n",
              "    .dataframe tbody tr th {\n",
              "        vertical-align: top;\n",
              "    }\n",
              "\n",
              "    .dataframe thead th {\n",
              "        text-align: right;\n",
              "    }\n",
              "</style>\n",
              "<table border=\"1\" class=\"dataframe\">\n",
              "  <thead>\n",
              "    <tr style=\"text-align: right;\">\n",
              "      <th></th>\n",
              "      <th>image_id</th>\n",
              "      <th>mesh</th>\n",
              "      <th>Image_path</th>\n",
              "      <th>report</th>\n",
              "    </tr>\n",
              "  </thead>\n",
              "  <tbody>\n",
              "    <tr>\n",
              "      <th>0</th>\n",
              "      <td>CXR2233_IM-0832-1001.png</td>\n",
              "      <td>Lung/hyperdistention Diaphragm/bilateral/flatt...</td>\n",
              "      <td>/content/drive/MyDrive/dataset-iu/dataset-iu-i...</td>\n",
              "      <td>startseq hyperinflated lungs air trapping vers...</td>\n",
              "    </tr>\n",
              "    <tr>\n",
              "      <th>1</th>\n",
              "      <td>CXR3502_IM-1707-1001.png</td>\n",
              "      <td>Surgical Instruments/thorax Cardiomegaly Pulmo...</td>\n",
              "      <td>/content/drive/MyDrive/dataset-iu/dataset-iu-i...</td>\n",
              "      <td>startseq cardiomegaly with surgical changes ca...</td>\n",
              "    </tr>\n",
              "    <tr>\n",
              "      <th>2</th>\n",
              "      <td>CXR568_IM-2168-1001.png</td>\n",
              "      <td>Aorta/tortuous Calcinosis/lung/hilum/lymph nod...</td>\n",
              "      <td>/content/drive/MyDrive/dataset-iu/dataset-iu-i...</td>\n",
              "      <td>startseq no acute cardiopulmonary finding . he...</td>\n",
              "    </tr>\n",
              "    <tr>\n",
              "      <th>3</th>\n",
              "      <td>CXR1799_IM-0519-1001.png</td>\n",
              "      <td>normal</td>\n",
              "      <td>/content/drive/MyDrive/dataset-iu/dataset-iu-i...</td>\n",
              "      <td>startseq no acute right pulmonary findings . h...</td>\n",
              "    </tr>\n",
              "    <tr>\n",
              "      <th>4</th>\n",
              "      <td>CXR3704_IM-1851-1001.png</td>\n",
              "      <td>normal</td>\n",
              "      <td>/content/drive/MyDrive/dataset-iu/dataset-iu-i...</td>\n",
              "      <td>startseq negative for acute cardiopulmonary ab...</td>\n",
              "    </tr>\n",
              "    <tr>\n",
              "      <th>...</th>\n",
              "      <td>...</td>\n",
              "      <td>...</td>\n",
              "      <td>...</td>\n",
              "      <td>...</td>\n",
              "    </tr>\n",
              "    <tr>\n",
              "      <th>495</th>\n",
              "      <td>CXR362_IM-1791-1001.png</td>\n",
              "      <td>normal</td>\n",
              "      <td>/content/drive/MyDrive/dataset-iu/dataset-iu-i...</td>\n",
              "      <td>startseq heart size normal and lungs are clear...</td>\n",
              "    </tr>\n",
              "    <tr>\n",
              "      <th>496</th>\n",
              "      <td>CXR2315_IM-0889-1002.png</td>\n",
              "      <td>Calcified Granuloma/lung/lingula</td>\n",
              "      <td>/content/drive/MyDrive/dataset-iu/dataset-iu-i...</td>\n",
              "      <td>startseq no acute radiographic cardiopulmonary...</td>\n",
              "    </tr>\n",
              "    <tr>\n",
              "      <th>497</th>\n",
              "      <td>CXR3744_IM-1871-0001-0001.png</td>\n",
              "      <td>normal</td>\n",
              "      <td>/content/drive/MyDrive/dataset-iu/dataset-iu-i...</td>\n",
              "      <td>startseq normal heart size .  normal pulmonary...</td>\n",
              "    </tr>\n",
              "    <tr>\n",
              "      <th>498</th>\n",
              "      <td>CXR820_IM-2351-1001.png</td>\n",
              "      <td>Osteophyte/thoracic vertebrae/multiple Nodule/...</td>\n",
              "      <td>/content/drive/MyDrive/dataset-iu/dataset-iu-i...</td>\n",
              "      <td>startseq no acute cardiopulmonary abnormality ...</td>\n",
              "    </tr>\n",
              "    <tr>\n",
              "      <th>499</th>\n",
              "      <td>CXR3795_IM-1909-1001.png</td>\n",
              "      <td>Scoliosis/thoracic vertebrae/right/moderate</td>\n",
              "      <td>/content/drive/MyDrive/dataset-iu/dataset-iu-i...</td>\n",
              "      <td>startseq no acute changes from prior imaging ....</td>\n",
              "    </tr>\n",
              "  </tbody>\n",
              "</table>\n",
              "<p>500 rows × 4 columns</p>\n",
              "</div>\n",
              "      <button class=\"colab-df-convert\" onclick=\"convertToInteractive('df-702d37bd-c3a0-4532-92b8-c15afba7d8e4')\"\n",
              "              title=\"Convert this dataframe to an interactive table.\"\n",
              "              style=\"display:none;\">\n",
              "        \n",
              "  <svg xmlns=\"http://www.w3.org/2000/svg\" height=\"24px\"viewBox=\"0 0 24 24\"\n",
              "       width=\"24px\">\n",
              "    <path d=\"M0 0h24v24H0V0z\" fill=\"none\"/>\n",
              "    <path d=\"M18.56 5.44l.94 2.06.94-2.06 2.06-.94-2.06-.94-.94-2.06-.94 2.06-2.06.94zm-11 1L8.5 8.5l.94-2.06 2.06-.94-2.06-.94L8.5 2.5l-.94 2.06-2.06.94zm10 10l.94 2.06.94-2.06 2.06-.94-2.06-.94-.94-2.06-.94 2.06-2.06.94z\"/><path d=\"M17.41 7.96l-1.37-1.37c-.4-.4-.92-.59-1.43-.59-.52 0-1.04.2-1.43.59L10.3 9.45l-7.72 7.72c-.78.78-.78 2.05 0 2.83L4 21.41c.39.39.9.59 1.41.59.51 0 1.02-.2 1.41-.59l7.78-7.78 2.81-2.81c.8-.78.8-2.07 0-2.86zM5.41 20L4 18.59l7.72-7.72 1.47 1.35L5.41 20z\"/>\n",
              "  </svg>\n",
              "      </button>\n",
              "      \n",
              "  <style>\n",
              "    .colab-df-container {\n",
              "      display:flex;\n",
              "      flex-wrap:wrap;\n",
              "      gap: 12px;\n",
              "    }\n",
              "\n",
              "    .colab-df-convert {\n",
              "      background-color: #E8F0FE;\n",
              "      border: none;\n",
              "      border-radius: 50%;\n",
              "      cursor: pointer;\n",
              "      display: none;\n",
              "      fill: #1967D2;\n",
              "      height: 32px;\n",
              "      padding: 0 0 0 0;\n",
              "      width: 32px;\n",
              "    }\n",
              "\n",
              "    .colab-df-convert:hover {\n",
              "      background-color: #E2EBFA;\n",
              "      box-shadow: 0px 1px 2px rgba(60, 64, 67, 0.3), 0px 1px 3px 1px rgba(60, 64, 67, 0.15);\n",
              "      fill: #174EA6;\n",
              "    }\n",
              "\n",
              "    [theme=dark] .colab-df-convert {\n",
              "      background-color: #3B4455;\n",
              "      fill: #D2E3FC;\n",
              "    }\n",
              "\n",
              "    [theme=dark] .colab-df-convert:hover {\n",
              "      background-color: #434B5C;\n",
              "      box-shadow: 0px 1px 3px 1px rgba(0, 0, 0, 0.15);\n",
              "      filter: drop-shadow(0px 1px 2px rgba(0, 0, 0, 0.3));\n",
              "      fill: #FFFFFF;\n",
              "    }\n",
              "  </style>\n",
              "\n",
              "      <script>\n",
              "        const buttonEl =\n",
              "          document.querySelector('#df-702d37bd-c3a0-4532-92b8-c15afba7d8e4 button.colab-df-convert');\n",
              "        buttonEl.style.display =\n",
              "          google.colab.kernel.accessAllowed ? 'block' : 'none';\n",
              "\n",
              "        async function convertToInteractive(key) {\n",
              "          const element = document.querySelector('#df-702d37bd-c3a0-4532-92b8-c15afba7d8e4');\n",
              "          const dataTable =\n",
              "            await google.colab.kernel.invokeFunction('convertToInteractive',\n",
              "                                                     [key], {});\n",
              "          if (!dataTable) return;\n",
              "\n",
              "          const docLinkHtml = 'Like what you see? Visit the ' +\n",
              "            '<a target=\"_blank\" href=https://colab.research.google.com/notebooks/data_table.ipynb>data table notebook</a>'\n",
              "            + ' to learn more about interactive tables.';\n",
              "          element.innerHTML = '';\n",
              "          dataTable['output_type'] = 'display_data';\n",
              "          await google.colab.output.renderOutput(dataTable, element);\n",
              "          const docLink = document.createElement('div');\n",
              "          docLink.innerHTML = docLinkHtml;\n",
              "          element.appendChild(docLink);\n",
              "        }\n",
              "      </script>\n",
              "    </div>\n",
              "  </div>\n",
              "  "
            ]
          },
          "metadata": {},
          "execution_count": 41
        }
      ]
    },
    {
      "cell_type": "code",
      "source": [
        "# Define the image directory and image size\n",
        "#img_dir = 'images/'\n",
        "img_size = (224, 224)\n",
        "\n",
        "# Define the maximum number of words in the vocabulary\n",
        "max_words = 10000\n",
        "\n",
        "# Define the maximum length of a caption (including the start and end tokens)\n",
        "max_len = 100"
      ],
      "metadata": {
        "id": "goqcaJSeb0bH"
      },
      "execution_count": null,
      "outputs": []
    },
    {
      "cell_type": "code",
      "source": [
        "# Split the dataset into training and testing sets\n",
        "# train_data, test_data = train_test_split(dataset, test_size=0.2, random_state=42)"
      ],
      "metadata": {
        "id": "8wG4bpIVcA0A"
      },
      "execution_count": null,
      "outputs": []
    },
    {
      "cell_type": "code",
      "source": [
        "test_data=df.iloc[501:600]"
      ],
      "metadata": {
        "id": "JKgtU2CG77Om"
      },
      "execution_count": null,
      "outputs": []
    },
    {
      "cell_type": "code",
      "source": [],
      "metadata": {
        "id": "oymU5eeI77qI"
      },
      "execution_count": null,
      "outputs": []
    },
    {
      "cell_type": "code",
      "source": [
        "#Define the tokenizer and fit it to the training data\n",
        "tokenizer = Tokenizer(num_words=max_words)\n",
        "tokenizer.fit_on_texts(train_data['report'].values)"
      ],
      "metadata": {
        "id": "onekaUTKfLti"
      },
      "execution_count": null,
      "outputs": []
    },
    {
      "cell_type": "code",
      "source": [
        "# Convert the text to sequences of integers\n",
        "train_sequences = tokenizer.texts_to_sequences(train_data['report'].values)\n",
        "test_sequences = tokenizer.texts_to_sequences(test_data['report'].values)"
      ],
      "metadata": {
        "id": "c6sd8heFfTVz"
      },
      "execution_count": null,
      "outputs": []
    },
    {
      "cell_type": "code",
      "source": [
        "# Pad the sequences to the maximum length\n",
        "train_sequences_pad = pad_sequences(train_sequences, maxlen=max_len, padding='post', truncating='post')\n",
        "test_sequences_pad = pad_sequences(test_sequences, maxlen=max_len, padding='post', truncating='post')"
      ],
      "metadata": {
        "id": "Kws25ZiUfTYk"
      },
      "execution_count": null,
      "outputs": []
    },
    {
      "cell_type": "code",
      "source": [
        "# train_sequences_pad = train_sequences_pad.flatten()"
      ],
      "metadata": {
        "id": "XmHuRJACfLbg"
      },
      "execution_count": null,
      "outputs": []
    },
    {
      "cell_type": "code",
      "source": [
        "train_sequences_pad"
      ],
      "metadata": {
        "id": "1t7Iv4xLdbcU",
        "colab": {
          "base_uri": "https://localhost:8080/"
        },
        "outputId": "bcf49a48-b400-4bc0-80da-73eea5dd2ae6"
      },
      "execution_count": null,
      "outputs": [
        {
          "output_type": "execute_result",
          "data": {
            "text/plain": [
              "array([[  4, 150,  14, ...,   0,   0,   0],\n",
              "       [  4,  54,  25, ...,   0,   0,   0],\n",
              "       [  4,   1,   9, ...,   0,   0,   0],\n",
              "       ...,\n",
              "       [  4,   6,  13, ...,   0,   0,   0],\n",
              "       [  4,   1,   9, ...,   0,   0,   0],\n",
              "       [  4,   1,   9, ...,   0,   0,   0]], dtype=int32)"
            ]
          },
          "metadata": {},
          "execution_count": 48
        }
      ]
    },
    {
      "cell_type": "code",
      "source": [],
      "metadata": {
        "id": "46HLe2vcdApO"
      },
      "execution_count": null,
      "outputs": []
    },
    {
      "cell_type": "code",
      "source": [
        "# Define the vocabulary size \n",
        "# and the start and end tokens\n",
        "vocab_size = len(tokenizer.word_index) + 1\n",
        "# start_token = '<start>'\n",
        "# end_token = '<end>'\n"
      ],
      "metadata": {
        "id": "89GfFo4afL-i"
      },
      "execution_count": null,
      "outputs": []
    },
    {
      "cell_type": "code",
      "source": [
        "#Define the input and output data for the model\n",
        "train_images = []\n",
        "train_captions = []\n",
        "for i in range(train_data.shape[0]):\n",
        "    img_path = train_data['Image_path'].iloc[i]\n",
        "    img = tf.keras.preprocessing.image.load_img(img_path, target_size=img_size)\n",
        "    img_arr = tf.keras.preprocessing.image.img_to_array(img)\n",
        "    train_images.append(img_arr)\n",
        "    caption = train_data['report'].iloc[i]\n",
        "    train_captions.append(caption)\n",
        "train_images = np.array(train_images)\n",
        "train_captions = np.array(train_captions)\n"
      ],
      "metadata": {
        "id": "x-56yFU1ftdy"
      },
      "execution_count": null,
      "outputs": []
    },
    {
      "cell_type": "code",
      "source": [
        "train_images"
      ],
      "metadata": {
        "id": "7wF-reP5CazH",
        "colab": {
          "base_uri": "https://localhost:8080/"
        },
        "outputId": "34f579dd-ad6d-446c-cb23-ba6938f74988"
      },
      "execution_count": null,
      "outputs": [
        {
          "output_type": "execute_result",
          "data": {
            "text/plain": [
              "array([[[[  2.,   2.,   2.],\n",
              "         [  4.,   4.,   4.],\n",
              "         [  3.,   3.,   3.],\n",
              "         ...,\n",
              "         [  4.,   4.,   4.],\n",
              "         [  8.,   8.,   8.],\n",
              "         [ 17.,  17.,  17.]],\n",
              "\n",
              "        [[  0.,   0.,   0.],\n",
              "         [  1.,   1.,   1.],\n",
              "         [  0.,   0.,   0.],\n",
              "         ...,\n",
              "         [  1.,   1.,   1.],\n",
              "         [  4.,   4.,   4.],\n",
              "         [ 13.,  13.,  13.]],\n",
              "\n",
              "        [[  0.,   0.,   0.],\n",
              "         [  0.,   0.,   0.],\n",
              "         [  0.,   0.,   0.],\n",
              "         ...,\n",
              "         [  0.,   0.,   0.],\n",
              "         [  3.,   3.,   3.],\n",
              "         [  9.,   9.,   9.]],\n",
              "\n",
              "        ...,\n",
              "\n",
              "        [[  0.,   0.,   0.],\n",
              "         [  0.,   0.,   0.],\n",
              "         [  0.,   0.,   0.],\n",
              "         ...,\n",
              "         [  0.,   0.,   0.],\n",
              "         [  0.,   0.,   0.],\n",
              "         [  0.,   0.,   0.]],\n",
              "\n",
              "        [[  0.,   0.,   0.],\n",
              "         [  0.,   0.,   0.],\n",
              "         [  0.,   0.,   0.],\n",
              "         ...,\n",
              "         [  0.,   0.,   0.],\n",
              "         [  0.,   0.,   0.],\n",
              "         [  0.,   0.,   0.]],\n",
              "\n",
              "        [[  0.,   0.,   0.],\n",
              "         [  0.,   0.,   0.],\n",
              "         [  0.,   0.,   0.],\n",
              "         ...,\n",
              "         [  0.,   0.,   0.],\n",
              "         [  0.,   0.,   0.],\n",
              "         [  0.,   0.,   0.]]],\n",
              "\n",
              "\n",
              "       [[[  7.,   7.,   7.],\n",
              "         [  3.,   3.,   3.],\n",
              "         [  0.,   0.,   0.],\n",
              "         ...,\n",
              "         [  0.,   0.,   0.],\n",
              "         [  1.,   1.,   1.],\n",
              "         [  1.,   1.,   1.]],\n",
              "\n",
              "        [[  7.,   7.,   7.],\n",
              "         [  3.,   3.,   3.],\n",
              "         [  0.,   0.,   0.],\n",
              "         ...,\n",
              "         [  0.,   0.,   0.],\n",
              "         [  1.,   1.,   1.],\n",
              "         [  1.,   1.,   1.]],\n",
              "\n",
              "        [[  8.,   8.,   8.],\n",
              "         [  2.,   2.,   2.],\n",
              "         [  0.,   0.,   0.],\n",
              "         ...,\n",
              "         [  0.,   0.,   0.],\n",
              "         [  0.,   0.,   0.],\n",
              "         [  0.,   0.,   0.]],\n",
              "\n",
              "        ...,\n",
              "\n",
              "        [[  0.,   0.,   0.],\n",
              "         [  0.,   0.,   0.],\n",
              "         [222., 222., 222.],\n",
              "         ...,\n",
              "         [  0.,   0.,   0.],\n",
              "         [  0.,   0.,   0.],\n",
              "         [  0.,   0.,   0.]],\n",
              "\n",
              "        [[  0.,   0.,   0.],\n",
              "         [  0.,   0.,   0.],\n",
              "         [236., 236., 236.],\n",
              "         ...,\n",
              "         [  0.,   0.,   0.],\n",
              "         [  0.,   0.,   0.],\n",
              "         [  0.,   0.,   0.]],\n",
              "\n",
              "        [[  0.,   0.,   0.],\n",
              "         [  0.,   0.,   0.],\n",
              "         [233., 233., 233.],\n",
              "         ...,\n",
              "         [  0.,   0.,   0.],\n",
              "         [  0.,   0.,   0.],\n",
              "         [  0.,   0.,   0.]]],\n",
              "\n",
              "\n",
              "       [[[  2.,   2.,   2.],\n",
              "         [  2.,   2.,   2.],\n",
              "         [  0.,   0.,   0.],\n",
              "         ...,\n",
              "         [106., 106., 106.],\n",
              "         [108., 108., 108.],\n",
              "         [117., 117., 117.]],\n",
              "\n",
              "        [[  1.,   1.,   1.],\n",
              "         [  1.,   1.,   1.],\n",
              "         [  0.,   0.,   0.],\n",
              "         ...,\n",
              "         [106., 106., 106.],\n",
              "         [129., 129., 129.],\n",
              "         [158., 158., 158.]],\n",
              "\n",
              "        [[  0.,   0.,   0.],\n",
              "         [  0.,   0.,   0.],\n",
              "         [  0.,   0.,   0.],\n",
              "         ...,\n",
              "         [ 98.,  98.,  98.],\n",
              "         [126., 126., 126.],\n",
              "         [153., 153., 153.]],\n",
              "\n",
              "        ...,\n",
              "\n",
              "        [[ 19.,  19.,  19.],\n",
              "         [ 18.,  18.,  18.],\n",
              "         [ 16.,  16.,  16.],\n",
              "         ...,\n",
              "         [128., 128., 128.],\n",
              "         [151., 151., 151.],\n",
              "         [182., 182., 182.]],\n",
              "\n",
              "        [[ 20.,  20.,  20.],\n",
              "         [ 18.,  18.,  18.],\n",
              "         [ 19.,  19.,  19.],\n",
              "         ...,\n",
              "         [138., 138., 138.],\n",
              "         [160., 160., 160.],\n",
              "         [181., 181., 181.]],\n",
              "\n",
              "        [[ 36.,  36.,  36.],\n",
              "         [ 36.,  36.,  36.],\n",
              "         [ 32.,  32.,  32.],\n",
              "         ...,\n",
              "         [147., 147., 147.],\n",
              "         [165., 165., 165.],\n",
              "         [192., 192., 192.]]],\n",
              "\n",
              "\n",
              "       ...,\n",
              "\n",
              "\n",
              "       [[[121., 121., 121.],\n",
              "         [ 87.,  87.,  87.],\n",
              "         [ 49.,  49.,  49.],\n",
              "         ...,\n",
              "         [  7.,   7.,   7.],\n",
              "         [  8.,   8.,   8.],\n",
              "         [  8.,   8.,   8.]],\n",
              "\n",
              "        [[116., 116., 116.],\n",
              "         [ 82.,  82.,  82.],\n",
              "         [ 43.,  43.,  43.],\n",
              "         ...,\n",
              "         [  7.,   7.,   7.],\n",
              "         [  7.,   7.,   7.],\n",
              "         [  8.,   8.,   8.]],\n",
              "\n",
              "        [[112., 112., 112.],\n",
              "         [ 79.,  79.,  79.],\n",
              "         [ 40.,  40.,  40.],\n",
              "         ...,\n",
              "         [  7.,   7.,   7.],\n",
              "         [  7.,   7.,   7.],\n",
              "         [  7.,   7.,   7.]],\n",
              "\n",
              "        ...,\n",
              "\n",
              "        [[  7.,   7.,   7.],\n",
              "         [  6.,   6.,   6.],\n",
              "         [  8.,   8.,   8.],\n",
              "         ...,\n",
              "         [  7.,   7.,   7.],\n",
              "         [  8.,   8.,   8.],\n",
              "         [  8.,   8.,   8.]],\n",
              "\n",
              "        [[  6.,   6.,   6.],\n",
              "         [  7.,   7.,   7.],\n",
              "         [  8.,   8.,   8.],\n",
              "         ...,\n",
              "         [  7.,   7.,   7.],\n",
              "         [  9.,   9.,   9.],\n",
              "         [  8.,   8.,   8.]],\n",
              "\n",
              "        [[  6.,   6.,   6.],\n",
              "         [  6.,   6.,   6.],\n",
              "         [  8.,   8.,   8.],\n",
              "         ...,\n",
              "         [  7.,   7.,   7.],\n",
              "         [  7.,   7.,   7.],\n",
              "         [  6.,   6.,   6.]]],\n",
              "\n",
              "\n",
              "       [[[142., 142., 142.],\n",
              "         [116., 116., 116.],\n",
              "         [101., 101., 101.],\n",
              "         ...,\n",
              "         [197., 197., 197.],\n",
              "         [201., 201., 201.],\n",
              "         [203., 203., 203.]],\n",
              "\n",
              "        [[ 86.,  86.,  86.],\n",
              "         [ 61.,  61.,  61.],\n",
              "         [ 43.,  43.,  43.],\n",
              "         ...,\n",
              "         [186., 186., 186.],\n",
              "         [188., 188., 188.],\n",
              "         [190., 190., 190.]],\n",
              "\n",
              "        [[ 33.,  33.,  33.],\n",
              "         [ 13.,  13.,  13.],\n",
              "         [  2.,   2.,   2.],\n",
              "         ...,\n",
              "         [ 55.,  55.,  55.],\n",
              "         [ 55.,  55.,  55.],\n",
              "         [ 56.,  56.,  56.]],\n",
              "\n",
              "        ...,\n",
              "\n",
              "        [[ 20.,  20.,  20.],\n",
              "         [ 32.,  32.,  32.],\n",
              "         [ 44.,  44.,  44.],\n",
              "         ...,\n",
              "         [  0.,   0.,   0.],\n",
              "         [  0.,   0.,   0.],\n",
              "         [  0.,   0.,   0.]],\n",
              "\n",
              "        [[ 25.,  25.,  25.],\n",
              "         [ 36.,  36.,  36.],\n",
              "         [ 50.,  50.,  50.],\n",
              "         ...,\n",
              "         [  0.,   0.,   0.],\n",
              "         [  0.,   0.,   0.],\n",
              "         [  0.,   0.,   0.]],\n",
              "\n",
              "        [[ 32.,  32.,  32.],\n",
              "         [ 46.,  46.,  46.],\n",
              "         [ 60.,  60.,  60.],\n",
              "         ...,\n",
              "         [  0.,   0.,   0.],\n",
              "         [  0.,   0.,   0.],\n",
              "         [  0.,   0.,   0.]]],\n",
              "\n",
              "\n",
              "       [[[ 99.,  99.,  99.],\n",
              "         [ 55.,  55.,  55.],\n",
              "         [ 23.,  23.,  23.],\n",
              "         ...,\n",
              "         [  0.,   0.,   0.],\n",
              "         [  0.,   0.,   0.],\n",
              "         [  0.,   0.,   0.]],\n",
              "\n",
              "        [[ 96.,  96.,  96.],\n",
              "         [ 52.,  52.,  52.],\n",
              "         [ 22.,  22.,  22.],\n",
              "         ...,\n",
              "         [  0.,   0.,   0.],\n",
              "         [  0.,   0.,   0.],\n",
              "         [  0.,   0.,   0.]],\n",
              "\n",
              "        [[ 95.,  95.,  95.],\n",
              "         [ 51.,  51.,  51.],\n",
              "         [ 21.,  21.,  21.],\n",
              "         ...,\n",
              "         [  0.,   0.,   0.],\n",
              "         [  0.,   0.,   0.],\n",
              "         [  0.,   0.,   0.]],\n",
              "\n",
              "        ...,\n",
              "\n",
              "        [[ 24.,  24.,  24.],\n",
              "         [ 46.,  46.,  46.],\n",
              "         [ 41.,  41.,  41.],\n",
              "         ...,\n",
              "         [114., 114., 114.],\n",
              "         [111., 111., 111.],\n",
              "         [106., 106., 106.]],\n",
              "\n",
              "        [[ 47.,  47.,  47.],\n",
              "         [ 52.,  52.,  52.],\n",
              "         [ 45.,  45.,  45.],\n",
              "         ...,\n",
              "         [112., 112., 112.],\n",
              "         [112., 112., 112.],\n",
              "         [117., 117., 117.]],\n",
              "\n",
              "        [[ 80.,  80.,  80.],\n",
              "         [ 77.,  77.,  77.],\n",
              "         [ 69.,  69.,  69.],\n",
              "         ...,\n",
              "         [115., 115., 115.],\n",
              "         [117., 117., 117.],\n",
              "         [119., 119., 119.]]]], dtype=float32)"
            ]
          },
          "metadata": {},
          "execution_count": 51
        }
      ]
    },
    {
      "cell_type": "code",
      "source": [
        "train_images.shape\n",
        "# array\n",
        "# tensor\n",
        "# list"
      ],
      "metadata": {
        "id": "9JLj3yTLDxZh",
        "colab": {
          "base_uri": "https://localhost:8080/"
        },
        "outputId": "b351ecac-358d-4e97-ea98-84a4135d6ea7"
      },
      "execution_count": null,
      "outputs": [
        {
          "output_type": "execute_result",
          "data": {
            "text/plain": [
              "(500, 224, 224, 3)"
            ]
          },
          "metadata": {},
          "execution_count": 52
        }
      ]
    },
    {
      "cell_type": "code",
      "source": [
        "# train_images = np.array(train_images)\n",
        "# reshaped_train_images = train_images.reshape(train_images.shape[0], 224, 224, 3)\n",
        "# train_data['img_array'] = tf.convert_to_tensor(reshaped_train_images)"
      ],
      "metadata": {
        "id": "ODgmk4zcMo4_"
      },
      "execution_count": null,
      "outputs": []
    },
    {
      "cell_type": "code",
      "source": [
        "# train_data.loc[:, 'img_array'] = train_images.tolist()"
      ],
      "metadata": {
        "id": "1mF7Qqx8DW8q"
      },
      "execution_count": null,
      "outputs": []
    },
    {
      "cell_type": "code",
      "source": [
        "train_images = tf.convert_to_tensor(train_images)"
      ],
      "metadata": {
        "id": "iBHRJVOXMRaz"
      },
      "execution_count": null,
      "outputs": []
    },
    {
      "cell_type": "code",
      "source": [
        "# train_data['caption']=train_captions"
      ],
      "metadata": {
        "id": "7lZ-8tlHI2jw"
      },
      "execution_count": null,
      "outputs": []
    },
    {
      "cell_type": "code",
      "source": [
        "# train_images_path = train_data['Image_path'].values\n",
        "# train_captions = train_data['report'].values\n",
        "\n",
        "# def image_generator(image_paths, batch_size):\n",
        "#     i = 0\n",
        "#     while True:\n",
        "#         batch_images = []\n",
        "#         for j in range(batch_size):\n",
        "#             img_path = image_paths[(i*batch_size + j) % len(image_paths)]\n",
        "#             img = tf.keras.preprocessing.image.load_img(img_path, target_size=img_size)\n",
        "#             img_arr = tf.keras.preprocessing.image.img_to_array(img)\n",
        "#             batch_images.append(img_arr)\n",
        "#         i += 1\n",
        "#         yield np.array(batch_images)\n",
        "        \n",
        "# train_steps = int(np.ceil(len(train_images_path) / batch_size))\n",
        "\n",
        "# train_image_gen = image_generator(train_images_path, batch_size)\n",
        "# train_caption_gen = caption_generator(train_captions, batch_size)"
      ],
      "metadata": {
        "id": "UnC-zh3Iftfm"
      },
      "execution_count": null,
      "outputs": []
    },
    {
      "cell_type": "code",
      "source": [
        "# def caption_generator(captions, batch_size):\n",
        "#     i = 0\n",
        "#     while True:\n",
        "#         batch_captions = []\n",
        "#         for j in range(batch_size):\n",
        "#             caption = captions[(i*batch_size + j) % len(captions)]\n",
        "#             batch_captions.append(caption)\n",
        "#         i += 1\n",
        "#         yield np.array(batch_captions)"
      ],
      "metadata": {
        "id": "yrgBhxPnfrXt"
      },
      "execution_count": null,
      "outputs": []
    },
    {
      "cell_type": "code",
      "source": [
        "# x=next(train_image_gen)\n",
        "# x"
      ],
      "metadata": {
        "id": "NlKAOc-vftjm"
      },
      "execution_count": null,
      "outputs": []
    },
    {
      "cell_type": "code",
      "source": [
        "# x[0][0]"
      ],
      "metadata": {
        "id": "yviWgsZxNyN5"
      },
      "execution_count": null,
      "outputs": []
    },
    {
      "cell_type": "code",
      "source": [
        "test_images = []\n",
        "test_captions = []\n",
        "for i in range(len(test_data)):\n",
        "    img_path = test_data['Image_path'].iloc[i]\n",
        "    img = tf.keras.preprocessing.image.load_img(img_path, target_size=img_size)\n",
        "    img_arr = tf.keras.preprocessing.image.img_to_array(img)\n",
        "    test_images.append(img_arr)\n",
        "    caption = test_data['report'].iloc[i]\n",
        "    test_captions.append(caption)\n",
        "test_images = np.array(test_images)\n",
        "test_captions = np.array(test_captions)"
      ],
      "metadata": {
        "id": "0_XomXntNhk9"
      },
      "execution_count": null,
      "outputs": []
    },
    {
      "cell_type": "code",
      "source": [
        "# test_data.loc[:, 'img_array'] = test_images.tolist()\n",
        "test_images = tf.convert_to_tensor(test_images)"
      ],
      "metadata": {
        "id": "QkU_c1oFGrLO"
      },
      "execution_count": null,
      "outputs": []
    },
    {
      "cell_type": "code",
      "source": [
        "test_data.head(5)"
      ],
      "metadata": {
        "id": "jUu1k-v8Coq5"
      },
      "execution_count": null,
      "outputs": []
    },
    {
      "cell_type": "code",
      "source": [
        "# test_images_path = test_data['Image_path'].values\n",
        "# test_captions = test_data['report'].values\n",
        "\n",
        "# def test_image_generator(image_paths, batch_size):\n",
        "#     i = 0\n",
        "#     while True:\n",
        "#         batch_images = []\n",
        "#         for j in range(batch_size):\n",
        "#             img_path = image_paths[(i*batch_size + j) % len(image_paths)]\n",
        "#             img = tf.keras.preprocessing.image.load_img(img_path, target_size=img_size)\n",
        "#             img_arr = tf.keras.preprocessing.image.img_to_array(img)\n",
        "#             batch_images.append(img_arr)\n",
        "#         i += 1\n",
        "#         yield np.array(batch_images)\n",
        "\n",
        "# def test_caption_generator(captions, batch_size):\n",
        "#     i = 0\n",
        "#     while True:\n",
        "#         batch_captions = []\n",
        "#         for j in range(batch_size):\n",
        "#             caption = captions[(i*batch_size + j) % len(captions)]\n",
        "#             batch_captions.append(caption)\n",
        "#         i += 1\n",
        "#         yield np.array(batch_captions)\n",
        "\n",
        "# batch_size = 32\n",
        "# test_steps = int(np.ceil(len(test_images_path) / batch_size))\n",
        "\n",
        "# test_image_gen = test_image_generator(test_images_path, batch_size)\n",
        "# test_caption_gen = test_caption_generator(test_captions, batch_size)\n"
      ],
      "metadata": {
        "id": "u0_RpGXfV4fb"
      },
      "execution_count": null,
      "outputs": []
    },
    {
      "cell_type": "code",
      "source": [
        "# path = '/content/drive/My Drive/test_data.csv'\n",
        "# with open(path, 'w', encoding = 'utf-8-sig') as f:\n",
        "#   test_data.to_csv(f)"
      ],
      "metadata": {
        "id": "mkgRTBaJyfTu"
      },
      "execution_count": null,
      "outputs": []
    },
    {
      "cell_type": "code",
      "source": [
        "# Define the embedding size and the LSTM size\n",
        "embedding_size = 300\n",
        "lstm_size = 256\n",
        "\n",
        "# Define the input for the image and the caption\n",
        "image_input = Input(shape=(img_size[0], img_size[1], 3))\n",
        "caption_input = Input(shape=(max_len,))"
      ],
      "metadata": {
        "id": "4xVpAAoqgl0C"
      },
      "execution_count": null,
      "outputs": []
    },
    {
      "cell_type": "code",
      "source": [
        "caption_input.shape"
      ],
      "metadata": {
        "id": "k29J9s9nSQoP",
        "colab": {
          "base_uri": "https://localhost:8080/"
        },
        "outputId": "9a6d1fb9-08b7-4909-b1a1-217b71bd105e"
      },
      "execution_count": null,
      "outputs": [
        {
          "output_type": "execute_result",
          "data": {
            "text/plain": [
              "TensorShape([None, 100])"
            ]
          },
          "metadata": {},
          "execution_count": 58
        }
      ]
    },
    {
      "cell_type": "code",
      "source": [
        "# # Define the CNN model for image feature extraction\n",
        "# cnn_model = tf.keras.applications.InceptionV3(include_top=False, weights='imagenet', input_shape=(img_size[0], img_size[1], 3))\n",
        "# cnn_model.trainable = False\n",
        "# image_features = cnn_model(image_input)\n",
        "# image_features = Flatten()(image_features)\n",
        "# image_features = Dense(embedding_size, activation='relu')(image_features)\n",
        "# image_features = RepeatVector(max_len)(image_features)\n"
      ],
      "metadata": {
        "id": "y_NOdTT2tR7I"
      },
      "execution_count": null,
      "outputs": []
    },
    {
      "cell_type": "code",
      "source": [
        "# Define the DenseNet121 model to extract image features\n",
        "densenet_model = DenseNet121(include_top=False, input_tensor=img_input)"
      ],
      "metadata": {
        "id": "CSRGgaLWbMTi"
      },
      "execution_count": null,
      "outputs": []
    },
    {
      "cell_type": "code",
      "source": [
        "# Define the CNN model for image feature extraction\n",
        "cnn_model = tf.keras.applications.DenseNet121(include_top=False, weights='imagenet', input_shape=(img_size[0], img_size[1], 3))\n",
        "cnn_model.trainable = False\n",
        "image_features = cnn_model(image_input)\n",
        "image_features = Flatten()(image_features)\n",
        "image_features = Dense(embedding_size, activation='relu')(image_features)\n",
        "image_features = RepeatVector(max_len)(image_features)"
      ],
      "metadata": {
        "id": "WSjFFg_5SDsF",
        "colab": {
          "base_uri": "https://localhost:8080/"
        },
        "outputId": "19c75971-2c45-476d-b85f-06f259b8c4df"
      },
      "execution_count": 59,
      "outputs": [
        {
          "output_type": "stream",
          "name": "stdout",
          "text": [
            "Downloading data from https://storage.googleapis.com/tensorflow/keras-applications/densenet/densenet121_weights_tf_dim_ordering_tf_kernels_notop.h5\n",
            "29084464/29084464 [==============================] - 0s 0us/step\n"
          ]
        }
      ]
    },
    {
      "cell_type": "code",
      "source": [
        "image_features.shape"
      ],
      "metadata": {
        "id": "ijgvxSk7IOav"
      },
      "execution_count": null,
      "outputs": []
    },
    {
      "cell_type": "code",
      "source": [
        "# Define the LSTM model for caption generation\n",
        "caption_features = Embedding(input_dim=vocab_size, output_dim=embedding_size, input_length=max_len)(caption_input)\n",
        "caption_lstm = LSTM(units=lstm_size, return_sequences=True)(caption_features)\n",
        "caption_features = Dense(300)(caption_lstm)"
      ],
      "metadata": {
        "id": "2pE8SQf3tWKS"
      },
      "execution_count": 60,
      "outputs": []
    },
    {
      "cell_type": "code",
      "source": [
        "caption_features.shape"
      ],
      "metadata": {
        "id": "ctXQYe1DWxeI",
        "colab": {
          "base_uri": "https://localhost:8080/"
        },
        "outputId": "0135e861-b83a-4b5c-e8fd-f3fc40a8c344"
      },
      "execution_count": 61,
      "outputs": [
        {
          "output_type": "execute_result",
          "data": {
            "text/plain": [
              "TensorShape([None, 100, 300])"
            ]
          },
          "metadata": {},
          "execution_count": 61
        }
      ]
    },
    {
      "cell_type": "code",
      "source": [
        "from keras.layers import Permute, Reshape"
      ],
      "metadata": {
        "id": "6EEV9pRjYGV-"
      },
      "execution_count": 62,
      "outputs": []
    },
    {
      "cell_type": "code",
      "source": [
        "# #Define the attention mechanism\n",
        "# attention = Multiply()([image_features, caption_features])\n",
        "# attention = Lambda(lambda x: K.sum(x, axis=2))(attention)\n",
        "# attention = Activation('softmax')(attention)\n",
        "# attention = RepeatVector(lstm_size*2)(attention)\n",
        "# attention = Permute([2, 1])(attention)\n",
        "# attention = Dense(lstm_size*2, activation='tanh')(attention)\n",
        "\n",
        "# Define the attention mechanism v2\n",
        "attention = Multiply()([image_features, caption_features])\n",
        "attention = Permute((2, 1))(attention)\n",
        "attention = Dense(max_len, activation='softmax')(attention)\n",
        "attention = Permute((2, 1))(attention)\n",
        "# attention = Lambda(lambda x: K.expand_dims(x))(attention)\n",
        "# attention = Reshape((max_len,1,1))(attention,1)"
      ],
      "metadata": {
        "id": "-VCyP0PLtZ_N"
      },
      "execution_count": 63,
      "outputs": []
    },
    {
      "cell_type": "code",
      "source": [
        "attention.shape"
      ],
      "metadata": {
        "id": "V_oeq5xEcEav",
        "colab": {
          "base_uri": "https://localhost:8080/"
        },
        "outputId": "b66972c8-a3f9-475d-c8bb-25a4f7d663a5"
      },
      "execution_count": 64,
      "outputs": [
        {
          "output_type": "execute_result",
          "data": {
            "text/plain": [
              "TensorShape([None, 100, 300])"
            ]
          },
          "metadata": {},
          "execution_count": 64
        }
      ]
    },
    {
      "cell_type": "code",
      "source": [
        "# # Combine the image features and the caption features using the attention mechanism\n",
        "# context = Multiply()([caption_features, attention])\n",
        "# context = Lambda(lambda x: K.sum(x, axis=1))(context)\n",
        "# context = Concatenate()([context, image_features])\n",
        "\n",
        "# # Combine the image features and the caption features using the attention mechanism v2\n",
        "# context = Multiply()([attention, caption_features])\n",
        "# # context = Lambda(lambda x: K.sum(x, axis=1))(context)\n",
        "# context = Concatenate()([context, image_features])"
      ],
      "metadata": {
        "id": "1vxo-_Jgeyhr"
      },
      "execution_count": 65,
      "outputs": []
    },
    {
      "cell_type": "code",
      "source": [
        "# context=0"
      ],
      "metadata": {
        "id": "naDW9OwCXgT_"
      },
      "execution_count": 66,
      "outputs": []
    },
    {
      "cell_type": "code",
      "source": [
        "context = Multiply()([attention, caption_features])\n",
        "# context = Lambda(lambda x: K.sum(x, axis=1))(context)\n",
        "context.shape"
      ],
      "metadata": {
        "id": "NNDJ7suRc7EC",
        "colab": {
          "base_uri": "https://localhost:8080/"
        },
        "outputId": "a5fb7560-d4aa-4ecb-8915-2037ad29d0b6"
      },
      "execution_count": 67,
      "outputs": [
        {
          "output_type": "execute_result",
          "data": {
            "text/plain": [
              "TensorShape([None, 100, 300])"
            ]
          },
          "metadata": {},
          "execution_count": 67
        }
      ]
    },
    {
      "cell_type": "code",
      "source": [
        "# output=0"
      ],
      "metadata": {
        "id": "zkEebVsutMUo"
      },
      "execution_count": 68,
      "outputs": []
    },
    {
      "cell_type": "code",
      "source": [
        "# Generate the output caption\n",
        "output = Dense(units=vocab_size)(context)\n",
        "output.shape"
      ],
      "metadata": {
        "id": "44e6c15KuABk",
        "colab": {
          "base_uri": "https://localhost:8080/"
        },
        "outputId": "d7204ad7-3439-463d-cb66-447b596d4ef3"
      },
      "execution_count": 69,
      "outputs": [
        {
          "output_type": "execute_result",
          "data": {
            "text/plain": [
              "TensorShape([None, 100, 1026])"
            ]
          },
          "metadata": {},
          "execution_count": 69
        }
      ]
    },
    {
      "cell_type": "code",
      "source": [
        "# output = Lambda(lambda x: K.expand_dims(x))(attention)\n",
        "#output.shape"
      ],
      "metadata": {
        "id": "Nfuti4HfuAEX"
      },
      "execution_count": null,
      "outputs": []
    },
    {
      "cell_type": "code",
      "source": [
        "# output = Reshape((1, vocab_size))(output)\n",
        "# output = Lambda(lambda x: K.expand_dims(x, axis=-1))(output)\n",
        "# output = Lambda(lambda x: K.squeeze(x, axis=-1))(output)\n",
        "# output.shape"
      ],
      "metadata": {
        "id": "2AVR23dWeylm"
      },
      "execution_count": null,
      "outputs": []
    },
    {
      "cell_type": "code",
      "source": [
        "output = Activation('softmax')(output)\n",
        "output.shape"
      ],
      "metadata": {
        "id": "fPuZjVC-uEz_",
        "colab": {
          "base_uri": "https://localhost:8080/"
        },
        "outputId": "acbab9bf-2c25-4a83-db63-b855841f445a"
      },
      "execution_count": 70,
      "outputs": [
        {
          "output_type": "execute_result",
          "data": {
            "text/plain": [
              "TensorShape([None, 100, 1026])"
            ]
          },
          "metadata": {},
          "execution_count": 70
        }
      ]
    },
    {
      "cell_type": "code",
      "source": [],
      "metadata": {
        "id": "RWqAGyQORmFJ"
      },
      "execution_count": 70,
      "outputs": []
    },
    {
      "cell_type": "code",
      "source": [
        "# Define the model and compile it\n",
        "model = Model(inputs=[image_input, caption_input], outputs=output)\n",
        "model.compile(loss='categorical_crossentropy', optimizer='adam')"
      ],
      "metadata": {
        "id": "L2bQd2n1taDu"
      },
      "execution_count": 71,
      "outputs": []
    },
    {
      "cell_type": "code",
      "source": [
        "# Define the checkpoint and early stopping callbacks\n",
        "checkpoint = ModelCheckpoint('model_weights.h5', monitor='val_loss', verbose=1, save_best_only=True, mode='min')\n",
        "early_stopping = EarlyStopping(monitor='val_loss', patience=5, verbose=1, mode='min')"
      ],
      "metadata": {
        "id": "K5UwryLNfAFJ"
      },
      "execution_count": 72,
      "outputs": []
    },
    {
      "cell_type": "code",
      "source": [
        "train_sequences_pad.shape"
      ],
      "metadata": {
        "id": "QO7H10ZHfsKe",
        "colab": {
          "base_uri": "https://localhost:8080/"
        },
        "outputId": "59569131-f399-4f1c-e00b-793abf4a893b"
      },
      "execution_count": 73,
      "outputs": [
        {
          "output_type": "execute_result",
          "data": {
            "text/plain": [
              "(500, 100)"
            ]
          },
          "metadata": {},
          "execution_count": 73
        }
      ]
    },
    {
      "cell_type": "code",
      "source": [
        "train_data['report'].shape"
      ],
      "metadata": {
        "id": "lbvYCFohz6Sx"
      },
      "execution_count": null,
      "outputs": []
    },
    {
      "cell_type": "code",
      "source": [
        "train_images.shape"
      ],
      "metadata": {
        "id": "1L-unV-mzu38"
      },
      "execution_count": null,
      "outputs": []
    },
    {
      "cell_type": "code",
      "source": [
        "b=to_categorical(train_sequences_pad, num_classes=vocab_size)"
      ],
      "metadata": {
        "id": "6JZ3wTfwgiOF"
      },
      "execution_count": 74,
      "outputs": []
    },
    {
      "cell_type": "code",
      "source": [
        "b.shape"
      ],
      "metadata": {
        "id": "rEqwVJc2pYhG"
      },
      "execution_count": null,
      "outputs": []
    },
    {
      "cell_type": "code",
      "source": [
        "\n",
        "# #generator for y in batches so it has the same array length as the other inputs\n",
        "# def generate_y(train_sequences, vocab_size, batch_size=32):\n",
        "#     num_batches = len(train_sequences) // batch_size\n",
        "#     while True:\n",
        "#         for i in range(num_batches):\n",
        "#             batch_sequences = train_sequences[i*batch_size:(i+1)*batch_size]\n",
        "#             batch_y = to_categorical(batch_sequences, num_classes=vocab_size)\n",
        "#             yield batch_y\n",
        "\n",
        "# train_sequences_gen = generate_y(train_sequences, vocab_size)"
      ],
      "metadata": {
        "id": "IwScW657Rz11"
      },
      "execution_count": null,
      "outputs": []
    },
    {
      "cell_type": "code",
      "source": [
        "# next(train_sequences_gen).shape"
      ],
      "metadata": {
        "id": "gIlqcupwSIFu"
      },
      "execution_count": null,
      "outputs": []
    },
    {
      "cell_type": "code",
      "source": [
        "# next(train_image_gen).shape"
      ],
      "metadata": {
        "id": "H2bHBy0tTBs3"
      },
      "execution_count": null,
      "outputs": []
    },
    {
      "cell_type": "code",
      "source": [
        "test_images.shape"
      ],
      "metadata": {
        "id": "Wkt5xttG3E_2"
      },
      "execution_count": null,
      "outputs": []
    },
    {
      "cell_type": "code",
      "source": [
        "c=to_categorical(test_sequences_pad, num_classes=vocab_size)"
      ],
      "metadata": {
        "id": "REtUlB1tTkBD"
      },
      "execution_count": 75,
      "outputs": []
    },
    {
      "cell_type": "code",
      "source": [
        "c.shape"
      ],
      "metadata": {
        "id": "jMO6Aqts2_Xo"
      },
      "execution_count": null,
      "outputs": []
    },
    {
      "cell_type": "code",
      "source": [
        "# Train the model\n",
        "history = model.fit(\n",
        "    x=[train_images,\n",
        "    train_sequences_pad],\n",
        "    y=b,\n",
        "    batch_size=32, epochs=50,\n",
        "    callbacks=[checkpoint, early_stopping],\n",
        "    validation_data=([test_images, test_sequences_pad],c )\n",
        "    )\n",
        "\n",
        "# Save the model\n",
        "model.save('model.h5')"
      ],
      "metadata": {
        "id": "Gvsr564TNhoL",
        "colab": {
          "base_uri": "https://localhost:8080/"
        },
        "outputId": "05b1696d-e637-4c11-fdde-b8fd95cc9cbd"
      },
      "execution_count": 76,
      "outputs": [
        {
          "output_type": "stream",
          "name": "stdout",
          "text": [
            "Epoch 1/50\n",
            "16/16 [==============================] - ETA: 0s - loss: 6.8500\n",
            "Epoch 1: val_loss improved from inf to 6.68042, saving model to model_weights.h5\n",
            "16/16 [==============================] - 33s 824ms/step - loss: 6.8500 - val_loss: 6.6804\n",
            "Epoch 2/50\n",
            "16/16 [==============================] - ETA: 0s - loss: 6.3755\n",
            "Epoch 2: val_loss improved from 6.68042 to 5.82882, saving model to model_weights.h5\n",
            "16/16 [==============================] - 6s 367ms/step - loss: 6.3755 - val_loss: 5.8288\n",
            "Epoch 3/50\n",
            "16/16 [==============================] - ETA: 0s - loss: 5.0915\n",
            "Epoch 3: val_loss improved from 5.82882 to 4.03364, saving model to model_weights.h5\n",
            "16/16 [==============================] - 6s 372ms/step - loss: 5.0915 - val_loss: 4.0336\n",
            "Epoch 4/50\n",
            "16/16 [==============================] - ETA: 0s - loss: 3.2158\n",
            "Epoch 4: val_loss improved from 4.03364 to 2.45429, saving model to model_weights.h5\n",
            "16/16 [==============================] - 6s 384ms/step - loss: 3.2158 - val_loss: 2.4543\n",
            "Epoch 5/50\n",
            "16/16 [==============================] - ETA: 0s - loss: 2.4465\n",
            "Epoch 5: val_loss improved from 2.45429 to 2.37248, saving model to model_weights.h5\n",
            "16/16 [==============================] - 5s 305ms/step - loss: 2.4465 - val_loss: 2.3725\n",
            "Epoch 6/50\n",
            "16/16 [==============================] - ETA: 0s - loss: 2.3765\n",
            "Epoch 6: val_loss improved from 2.37248 to 2.29727, saving model to model_weights.h5\n",
            "16/16 [==============================] - 5s 303ms/step - loss: 2.3765 - val_loss: 2.2973\n",
            "Epoch 7/50\n",
            "16/16 [==============================] - ETA: 0s - loss: 2.3277\n",
            "Epoch 7: val_loss improved from 2.29727 to 2.26263, saving model to model_weights.h5\n",
            "16/16 [==============================] - 5s 299ms/step - loss: 2.3277 - val_loss: 2.2626\n",
            "Epoch 8/50\n",
            "16/16 [==============================] - ETA: 0s - loss: 2.2801\n",
            "Epoch 8: val_loss improved from 2.26263 to 2.19981, saving model to model_weights.h5\n",
            "16/16 [==============================] - 5s 314ms/step - loss: 2.2801 - val_loss: 2.1998\n",
            "Epoch 9/50\n",
            "16/16 [==============================] - ETA: 0s - loss: 2.2001\n",
            "Epoch 9: val_loss improved from 2.19981 to 2.11521, saving model to model_weights.h5\n",
            "16/16 [==============================] - 5s 333ms/step - loss: 2.2001 - val_loss: 2.1152\n",
            "Epoch 10/50\n",
            "16/16 [==============================] - ETA: 0s - loss: 2.1271\n",
            "Epoch 10: val_loss improved from 2.11521 to 2.06293, saving model to model_weights.h5\n",
            "16/16 [==============================] - 4s 260ms/step - loss: 2.1271 - val_loss: 2.0629\n",
            "Epoch 11/50\n",
            "16/16 [==============================] - ETA: 0s - loss: 2.0803\n",
            "Epoch 11: val_loss improved from 2.06293 to 2.02721, saving model to model_weights.h5\n",
            "16/16 [==============================] - 4s 289ms/step - loss: 2.0803 - val_loss: 2.0272\n",
            "Epoch 12/50\n",
            "16/16 [==============================] - ETA: 0s - loss: 2.0439\n",
            "Epoch 12: val_loss improved from 2.02721 to 1.99567, saving model to model_weights.h5\n",
            "16/16 [==============================] - 5s 296ms/step - loss: 2.0439 - val_loss: 1.9957\n",
            "Epoch 13/50\n",
            "16/16 [==============================] - ETA: 0s - loss: 2.0096\n",
            "Epoch 13: val_loss improved from 1.99567 to 1.96192, saving model to model_weights.h5\n",
            "16/16 [==============================] - 4s 251ms/step - loss: 2.0096 - val_loss: 1.9619\n",
            "Epoch 14/50\n",
            "16/16 [==============================] - ETA: 0s - loss: 1.9705\n",
            "Epoch 14: val_loss improved from 1.96192 to 1.92429, saving model to model_weights.h5\n",
            "16/16 [==============================] - 4s 247ms/step - loss: 1.9705 - val_loss: 1.9243\n",
            "Epoch 15/50\n",
            "16/16 [==============================] - ETA: 0s - loss: 1.9311\n",
            "Epoch 15: val_loss improved from 1.92429 to 1.88452, saving model to model_weights.h5\n",
            "16/16 [==============================] - 5s 300ms/step - loss: 1.9311 - val_loss: 1.8845\n",
            "Epoch 16/50\n",
            "16/16 [==============================] - ETA: 0s - loss: 1.8939\n",
            "Epoch 16: val_loss improved from 1.88452 to 1.84976, saving model to model_weights.h5\n",
            "16/16 [==============================] - 4s 240ms/step - loss: 1.8939 - val_loss: 1.8498\n",
            "Epoch 17/50\n",
            "16/16 [==============================] - ETA: 0s - loss: 1.8641\n",
            "Epoch 17: val_loss improved from 1.84976 to 1.82326, saving model to model_weights.h5\n",
            "16/16 [==============================] - 4s 284ms/step - loss: 1.8641 - val_loss: 1.8233\n",
            "Epoch 18/50\n",
            "16/16 [==============================] - ETA: 0s - loss: 1.8413\n",
            "Epoch 18: val_loss improved from 1.82326 to 1.80406, saving model to model_weights.h5\n",
            "16/16 [==============================] - 5s 299ms/step - loss: 1.8413 - val_loss: 1.8041\n",
            "Epoch 19/50\n",
            "16/16 [==============================] - ETA: 0s - loss: 1.8232\n",
            "Epoch 19: val_loss improved from 1.80406 to 1.78842, saving model to model_weights.h5\n",
            "16/16 [==============================] - 4s 243ms/step - loss: 1.8232 - val_loss: 1.7884\n",
            "Epoch 20/50\n",
            "16/16 [==============================] - ETA: 0s - loss: 1.8088\n",
            "Epoch 20: val_loss improved from 1.78842 to 1.77442, saving model to model_weights.h5\n",
            "16/16 [==============================] - 4s 268ms/step - loss: 1.8088 - val_loss: 1.7744\n",
            "Epoch 21/50\n",
            "16/16 [==============================] - ETA: 0s - loss: 1.7947\n",
            "Epoch 21: val_loss improved from 1.77442 to 1.75829, saving model to model_weights.h5\n",
            "16/16 [==============================] - 4s 291ms/step - loss: 1.7947 - val_loss: 1.7583\n",
            "Epoch 22/50\n",
            "16/16 [==============================] - ETA: 0s - loss: 1.7831\n",
            "Epoch 22: val_loss improved from 1.75829 to 1.74727, saving model to model_weights.h5\n",
            "16/16 [==============================] - 4s 262ms/step - loss: 1.7831 - val_loss: 1.7473\n",
            "Epoch 23/50\n",
            "16/16 [==============================] - ETA: 0s - loss: 1.7698\n",
            "Epoch 23: val_loss improved from 1.74727 to 1.73196, saving model to model_weights.h5\n",
            "16/16 [==============================] - 4s 236ms/step - loss: 1.7698 - val_loss: 1.7320\n",
            "Epoch 24/50\n",
            "16/16 [==============================] - ETA: 0s - loss: 1.7574\n",
            "Epoch 24: val_loss improved from 1.73196 to 1.71851, saving model to model_weights.h5\n",
            "16/16 [==============================] - 4s 266ms/step - loss: 1.7574 - val_loss: 1.7185\n",
            "Epoch 25/50\n",
            "16/16 [==============================] - ETA: 0s - loss: 1.7430\n",
            "Epoch 25: val_loss improved from 1.71851 to 1.70445, saving model to model_weights.h5\n",
            "16/16 [==============================] - 4s 226ms/step - loss: 1.7430 - val_loss: 1.7045\n",
            "Epoch 26/50\n",
            "16/16 [==============================] - ETA: 0s - loss: 1.7291\n",
            "Epoch 26: val_loss improved from 1.70445 to 1.69119, saving model to model_weights.h5\n",
            "16/16 [==============================] - 4s 244ms/step - loss: 1.7291 - val_loss: 1.6912\n",
            "Epoch 27/50\n",
            "16/16 [==============================] - ETA: 0s - loss: 1.7155\n",
            "Epoch 27: val_loss improved from 1.69119 to 1.67847, saving model to model_weights.h5\n",
            "16/16 [==============================] - 4s 278ms/step - loss: 1.7155 - val_loss: 1.6785\n",
            "Epoch 28/50\n",
            "16/16 [==============================] - ETA: 0s - loss: 1.7022\n",
            "Epoch 28: val_loss improved from 1.67847 to 1.66570, saving model to model_weights.h5\n",
            "16/16 [==============================] - 4s 263ms/step - loss: 1.7022 - val_loss: 1.6657\n",
            "Epoch 29/50\n",
            "16/16 [==============================] - ETA: 0s - loss: 1.6890\n",
            "Epoch 29: val_loss improved from 1.66570 to 1.65253, saving model to model_weights.h5\n",
            "16/16 [==============================] - 3s 222ms/step - loss: 1.6890 - val_loss: 1.6525\n",
            "Epoch 30/50\n",
            "16/16 [==============================] - ETA: 0s - loss: 1.6757\n",
            "Epoch 30: val_loss improved from 1.65253 to 1.63979, saving model to model_weights.h5\n",
            "16/16 [==============================] - 4s 253ms/step - loss: 1.6757 - val_loss: 1.6398\n",
            "Epoch 31/50\n",
            "16/16 [==============================] - ETA: 0s - loss: 1.6626\n",
            "Epoch 31: val_loss improved from 1.63979 to 1.62736, saving model to model_weights.h5\n",
            "16/16 [==============================] - 4s 278ms/step - loss: 1.6626 - val_loss: 1.6274\n",
            "Epoch 32/50\n",
            "16/16 [==============================] - ETA: 0s - loss: 1.6496\n",
            "Epoch 32: val_loss improved from 1.62736 to 1.61462, saving model to model_weights.h5\n",
            "16/16 [==============================] - 4s 241ms/step - loss: 1.6496 - val_loss: 1.6146\n",
            "Epoch 33/50\n",
            "16/16 [==============================] - ETA: 0s - loss: 1.6359\n",
            "Epoch 33: val_loss improved from 1.61462 to 1.60218, saving model to model_weights.h5\n",
            "16/16 [==============================] - 4s 236ms/step - loss: 1.6359 - val_loss: 1.6022\n",
            "Epoch 34/50\n",
            "16/16 [==============================] - ETA: 0s - loss: 1.6233\n",
            "Epoch 34: val_loss improved from 1.60218 to 1.58925, saving model to model_weights.h5\n",
            "16/16 [==============================] - 5s 297ms/step - loss: 1.6233 - val_loss: 1.5892\n",
            "Epoch 35/50\n",
            "16/16 [==============================] - ETA: 0s - loss: 1.6077\n",
            "Epoch 35: val_loss improved from 1.58925 to 1.57371, saving model to model_weights.h5\n",
            "16/16 [==============================] - 4s 249ms/step - loss: 1.6077 - val_loss: 1.5737\n",
            "Epoch 36/50\n",
            "16/16 [==============================] - ETA: 0s - loss: 1.5911\n",
            "Epoch 36: val_loss improved from 1.57371 to 1.55827, saving model to model_weights.h5\n",
            "16/16 [==============================] - 3s 209ms/step - loss: 1.5911 - val_loss: 1.5583\n",
            "Epoch 37/50\n",
            "16/16 [==============================] - ETA: 0s - loss: 1.5749\n",
            "Epoch 37: val_loss improved from 1.55827 to 1.54319, saving model to model_weights.h5\n",
            "16/16 [==============================] - 4s 260ms/step - loss: 1.5749 - val_loss: 1.5432\n",
            "Epoch 38/50\n",
            "16/16 [==============================] - ETA: 0s - loss: 1.5596\n",
            "Epoch 38: val_loss improved from 1.54319 to 1.52826, saving model to model_weights.h5\n",
            "16/16 [==============================] - 4s 234ms/step - loss: 1.5596 - val_loss: 1.5283\n",
            "Epoch 39/50\n",
            "16/16 [==============================] - ETA: 0s - loss: 1.5451\n",
            "Epoch 39: val_loss improved from 1.52826 to 1.51598, saving model to model_weights.h5\n",
            "16/16 [==============================] - 4s 231ms/step - loss: 1.5451 - val_loss: 1.5160\n",
            "Epoch 40/50\n",
            "16/16 [==============================] - ETA: 0s - loss: 1.5317\n",
            "Epoch 40: val_loss improved from 1.51598 to 1.50150, saving model to model_weights.h5\n",
            "16/16 [==============================] - 4s 269ms/step - loss: 1.5317 - val_loss: 1.5015\n",
            "Epoch 41/50\n",
            "16/16 [==============================] - ETA: 0s - loss: 1.5183\n",
            "Epoch 41: val_loss improved from 1.50150 to 1.48810, saving model to model_weights.h5\n",
            "16/16 [==============================] - 4s 256ms/step - loss: 1.5183 - val_loss: 1.4881\n",
            "Epoch 42/50\n",
            "16/16 [==============================] - ETA: 0s - loss: 1.5060\n",
            "Epoch 42: val_loss improved from 1.48810 to 1.47552, saving model to model_weights.h5\n",
            "16/16 [==============================] - 4s 259ms/step - loss: 1.5060 - val_loss: 1.4755\n",
            "Epoch 43/50\n",
            "16/16 [==============================] - ETA: 0s - loss: 1.4933\n",
            "Epoch 43: val_loss improved from 1.47552 to 1.46314, saving model to model_weights.h5\n",
            "16/16 [==============================] - 4s 243ms/step - loss: 1.4933 - val_loss: 1.4631\n",
            "Epoch 44/50\n",
            "16/16 [==============================] - ETA: 0s - loss: 1.4810\n",
            "Epoch 44: val_loss improved from 1.46314 to 1.45124, saving model to model_weights.h5\n",
            "16/16 [==============================] - 4s 273ms/step - loss: 1.4810 - val_loss: 1.4512\n",
            "Epoch 45/50\n",
            "16/16 [==============================] - ETA: 0s - loss: 1.4688\n",
            "Epoch 45: val_loss improved from 1.45124 to 1.43930, saving model to model_weights.h5\n",
            "16/16 [==============================] - 3s 211ms/step - loss: 1.4688 - val_loss: 1.4393\n",
            "Epoch 46/50\n",
            "16/16 [==============================] - ETA: 0s - loss: 1.4571\n",
            "Epoch 46: val_loss improved from 1.43930 to 1.42774, saving model to model_weights.h5\n",
            "16/16 [==============================] - 4s 234ms/step - loss: 1.4571 - val_loss: 1.4277\n",
            "Epoch 47/50\n",
            "16/16 [==============================] - ETA: 0s - loss: 1.4454\n",
            "Epoch 47: val_loss improved from 1.42774 to 1.41623, saving model to model_weights.h5\n",
            "16/16 [==============================] - 4s 262ms/step - loss: 1.4454 - val_loss: 1.4162\n",
            "Epoch 48/50\n",
            "16/16 [==============================] - ETA: 0s - loss: 1.4340\n",
            "Epoch 48: val_loss improved from 1.41623 to 1.40458, saving model to model_weights.h5\n",
            "16/16 [==============================] - 3s 216ms/step - loss: 1.4340 - val_loss: 1.4046\n",
            "Epoch 49/50\n",
            "16/16 [==============================] - ETA: 0s - loss: 1.4226\n",
            "Epoch 49: val_loss improved from 1.40458 to 1.39353, saving model to model_weights.h5\n",
            "16/16 [==============================] - 4s 239ms/step - loss: 1.4226 - val_loss: 1.3935\n",
            "Epoch 50/50\n",
            "16/16 [==============================] - ETA: 0s - loss: 1.4114\n",
            "Epoch 50: val_loss improved from 1.39353 to 1.38298, saving model to model_weights.h5\n",
            "16/16 [==============================] - 4s 248ms/step - loss: 1.4114 - val_loss: 1.3830\n"
          ]
        }
      ]
    },
    {
      "cell_type": "code",
      "source": [
        "model.summary()"
      ],
      "metadata": {
        "colab": {
          "base_uri": "https://localhost:8080/"
        },
        "id": "SEkQQJlxcnr2",
        "outputId": "260ccf55-d00c-4885-e868-b9d05a4f6f05"
      },
      "execution_count": 82,
      "outputs": [
        {
          "output_type": "stream",
          "name": "stdout",
          "text": [
            "Model: \"model\"\n",
            "__________________________________________________________________________________________________\n",
            " Layer (type)                   Output Shape         Param #     Connected to                     \n",
            "==================================================================================================\n",
            " input_3 (InputLayer)           [(None, 224, 224, 3  0           []                               \n",
            "                                )]                                                                \n",
            "                                                                                                  \n",
            " densenet121 (Functional)       (None, 7, 7, 1024)   7037504     ['input_3[0][0]']                \n",
            "                                                                                                  \n",
            " input_4 (InputLayer)           [(None, 100)]        0           []                               \n",
            "                                                                                                  \n",
            " flatten (Flatten)              (None, 50176)        0           ['densenet121[0][0]']            \n",
            "                                                                                                  \n",
            " embedding (Embedding)          (None, 100, 300)     307800      ['input_4[0][0]']                \n",
            "                                                                                                  \n",
            " dense (Dense)                  (None, 300)          15053100    ['flatten[0][0]']                \n",
            "                                                                                                  \n",
            " lstm (LSTM)                    (None, 100, 256)     570368      ['embedding[0][0]']              \n",
            "                                                                                                  \n",
            " repeat_vector (RepeatVector)   (None, 100, 300)     0           ['dense[0][0]']                  \n",
            "                                                                                                  \n",
            " dense_1 (Dense)                (None, 100, 300)     77100       ['lstm[0][0]']                   \n",
            "                                                                                                  \n",
            " multiply (Multiply)            (None, 100, 300)     0           ['repeat_vector[0][0]',          \n",
            "                                                                  'dense_1[0][0]']                \n",
            "                                                                                                  \n",
            " permute (Permute)              (None, 300, 100)     0           ['multiply[0][0]']               \n",
            "                                                                                                  \n",
            " dense_2 (Dense)                (None, 300, 100)     10100       ['permute[0][0]']                \n",
            "                                                                                                  \n",
            " permute_1 (Permute)            (None, 100, 300)     0           ['dense_2[0][0]']                \n",
            "                                                                                                  \n",
            " multiply_1 (Multiply)          (None, 100, 300)     0           ['permute_1[0][0]',              \n",
            "                                                                  'dense_1[0][0]']                \n",
            "                                                                                                  \n",
            " dense_3 (Dense)                (None, 100, 1026)    308826      ['multiply_1[0][0]']             \n",
            "                                                                                                  \n",
            " activation (Activation)        (None, 100, 1026)    0           ['dense_3[0][0]']                \n",
            "                                                                                                  \n",
            "==================================================================================================\n",
            "Total params: 23,364,798\n",
            "Trainable params: 16,327,294\n",
            "Non-trainable params: 7,037,504\n",
            "__________________________________________________________________________________________________\n"
          ]
        }
      ]
    },
    {
      "cell_type": "code",
      "source": [
        "import matplotlib.pyplot as plt"
      ],
      "metadata": {
        "id": "ejulEbMX46Uk"
      },
      "execution_count": 77,
      "outputs": []
    },
    {
      "cell_type": "code",
      "source": [
        "# Get the training and validation loss values from the history object\n",
        "train_loss = history.history['loss']\n",
        "val_loss = history.history['val_loss']"
      ],
      "metadata": {
        "id": "eE8I-ObH49rJ"
      },
      "execution_count": 78,
      "outputs": []
    },
    {
      "cell_type": "code",
      "source": [
        "# Get the number of epochs\n",
        "num_epochs = len(train_loss)"
      ],
      "metadata": {
        "id": "w2Bb_sB64_9q"
      },
      "execution_count": 79,
      "outputs": []
    },
    {
      "cell_type": "code",
      "source": [
        "# Plot the training and validation loss curves\n",
        "plt.plot(range(1, num_epochs+1), train_loss, label='Training Loss')\n",
        "plt.plot(range(1, num_epochs+1), val_loss, label='Validation Loss')\n",
        "plt.title('Training and Validation Loss')\n",
        "plt.xlabel('Epoch')\n",
        "plt.ylabel('Loss')\n",
        "plt.legend()\n",
        "plt.show()\n"
      ],
      "metadata": {
        "id": "VkKf9fKd4Srs",
        "colab": {
          "base_uri": "https://localhost:8080/",
          "height": 472
        },
        "outputId": "c92bcc55-3385-4e33-cdb8-10e2af0b9bfb"
      },
      "execution_count": 80,
      "outputs": [
        {
          "output_type": "display_data",
          "data": {
            "text/plain": [
              "<Figure size 640x480 with 1 Axes>"
            ],
            "image/png": "[encoded data removed]"
          },
          "metadata": {}
        }
      ]
    },
    {
      "cell_type": "code",
      "source": [],
      "metadata": {
        "id": "NCeX9mSE487J"
      },
      "execution_count": 80,
      "outputs": []
    },
    {
      "cell_type": "code",
      "source": [
        "import nltk\n",
        "from nltk.translate.bleu_score import corpus_bleu"
      ],
      "metadata": {
        "id": "vK0690Bc2-T_"
      },
      "execution_count": 81,
      "outputs": []
    },
    {
      "cell_type": "code",
      "source": [
        "# Generate captions for test images using the trained model\n",
        "predicted_sequences = model.predict([test_images, test_sequences_pad])\n",
        "predicted_sequences = np.argmax(predicted_sequences, axis=2)"
      ],
      "metadata": {
        "id": "OTXcQ6LK3-G_",
        "colab": {
          "base_uri": "https://localhost:8080/"
        },
        "outputId": "8bb1dd93-83fa-4d6d-8714-6bbcc9739a0f"
      },
      "execution_count": 83,
      "outputs": [
        {
          "output_type": "stream",
          "name": "stdout",
          "text": [
            "4/4 [==============================] - 3s 84ms/step\n"
          ]
        }
      ]
    },
    {
      "cell_type": "code",
      "source": [
        "test_sequences_pad[2]"
      ],
      "metadata": {
        "id": "bN2bZ0tFBP3l",
        "colab": {
          "base_uri": "https://localhost:8080/"
        },
        "outputId": "b30f8b6b-cc2c-46be-d341-6ab30d760202"
      },
      "execution_count": 84,
      "outputs": [
        {
          "output_type": "execute_result",
          "data": {
            "text/plain": [
              "array([  4,   1,   9,  23,  30,  17,  14,   1, 129, 142,  19,  39,   1,\n",
              "         8,  12,  11,  35,  31,  22,   6,  24,   5,   0,   0,   0,   0,\n",
              "         0,   0,   0,   0,   0,   0,   0,   0,   0,   0,   0,   0,   0,\n",
              "         0,   0,   0,   0,   0,   0,   0,   0,   0,   0,   0,   0,   0,\n",
              "         0,   0,   0,   0,   0,   0,   0,   0,   0,   0,   0,   0,   0,\n",
              "         0,   0,   0,   0,   0,   0,   0,   0,   0,   0,   0,   0,   0,\n",
              "         0,   0,   0,   0,   0,   0,   0,   0,   0,   0,   0,   0,   0,\n",
              "         0,   0,   0,   0,   0,   0,   0,   0,   0], dtype=int32)"
            ]
          },
          "metadata": {},
          "execution_count": 84
        }
      ]
    },
    {
      "cell_type": "code",
      "source": [
        "predicted_sequences[2]"
      ],
      "metadata": {
        "id": "IomybJmsA6Cs",
        "colab": {
          "base_uri": "https://localhost:8080/"
        },
        "outputId": "096c5de7-a261-4716-e261-892d874fbbae"
      },
      "execution_count": 85,
      "outputs": [
        {
          "output_type": "execute_result",
          "data": {
            "text/plain": [
              "array([ 4,  0,  0,  2, 11,  8,  2,  1, 12, 34, 11, 12,  1,  2, 11, 11, 12,\n",
              "        8,  8,  1, 12,  0,  0,  0,  0,  0,  0,  0,  0,  0,  0,  0,  0,  0,\n",
              "        0,  0,  0,  0,  0,  0,  0,  0,  0,  0,  0,  0,  0,  0,  0,  0,  0,\n",
              "        0,  0,  0,  0,  0,  0,  0,  0,  0,  0,  0,  0,  0,  0,  0,  0,  0,\n",
              "        0,  0,  0,  0,  0,  0,  0,  0,  0,  0,  0,  0,  0,  0,  0,  0,  0,\n",
              "        0,  0,  0,  0,  0,  0,  0,  0,  0,  0,  0,  0,  0,  0,  0])"
            ]
          },
          "metadata": {},
          "execution_count": 85
        }
      ]
    },
    {
      "cell_type": "code",
      "source": [
        "# Convert sequences to text\n",
        "predicted_captions = []\n",
        "for sequence in predicted_sequences:\n",
        "    caption = []\n",
        "    for idx in sequence:\n",
        "        if idx == 0:\n",
        "            continue\n",
        "        word = tokenizer.sequences_to_texts([sequence])[0]\n",
        "        if word == '':\n",
        "            continue\n",
        "        if word == '<end>':\n",
        "            break\n",
        "        caption.append(word)\n",
        "    predicted_captions.append(' '.join(caption))"
      ],
      "metadata": {
        "id": "zgum3rqv4JNc"
      },
      "execution_count": 86,
      "outputs": []
    },
    {
      "cell_type": "code",
      "source": [
        "# predicted_captions = []\n",
        "# for sequence in predicted_sequences:\n",
        "#   caption = []\n",
        "#   if sequence.all == 0:\n",
        "#       continue\n",
        "#   word = tokenizer.sequences_to_texts([[sequence]])[0]\n",
        "#   if word == '':\n",
        "#       continue\n",
        "#   caption.append(word)\n",
        "# predicted_captions = ' '.join(caption)\n"
      ],
      "metadata": {
        "id": "FmVvN5oQ93xS"
      },
      "execution_count": 87,
      "outputs": []
    },
    {
      "cell_type": "code",
      "source": [
        "# Convert sequences to text\n",
        "actual_captions = []\n",
        "for sequence in test_sequences:\n",
        "    caption = []\n",
        "    for idx in sequence:\n",
        "        if idx == 0:\n",
        "            continue\n",
        "        word = tokenizer.sequences_to_texts([sequence])[0]\n",
        "        if word == '':\n",
        "            continue\n",
        "        if word == '<end>':\n",
        "            break\n",
        "        caption.append(word)\n",
        "    actual_captions.append(' '.join(caption))"
      ],
      "metadata": {
        "id": "VJhLhmhG4JTn"
      },
      "execution_count": 88,
      "outputs": []
    },
    {
      "cell_type": "code",
      "source": [
        "actual_captions[2]"
      ],
      "metadata": {
        "id": "9UYq7_l5AvOH",
        "colab": {
          "base_uri": "https://localhost:8080/",
          "height": 192
        },
        "outputId": "885c06e8-2828-4dbb-c84c-aafbd0037c1a"
      },
      "execution_count": 89,
      "outputs": [
        {
          "output_type": "execute_result",
          "data": {
            "text/plain": [
              "'startseq no acute cardiopulmonary abnormality clear lungs no infiltrates suspicious pulmonary opacity no pleural effusion pneumothora cardiomediastinal silhouette within normal limits endseq startseq no acute cardiopulmonary abnormality clear lungs no infiltrates suspicious pulmonary opacity no pleural effusion pneumothora cardiomediastinal silhouette within normal limits endseq startseq no acute cardiopulmonary abnormality clear lungs no infiltrates suspicious pulmonary opacity no pleural effusion pneumothora cardiomediastinal silhouette within normal limits endseq startseq no acute cardiopulmonary abnormality clear lungs no infiltrates suspicious pulmonary opacity no pleural effusion pneumothora cardiomediastinal silhouette within normal limits endseq startseq no acute cardiopulmonary abnormality clear lungs no infiltrates suspicious pulmonary opacity no pleural effusion pneumothora cardiomediastinal silhouette within normal limits endseq startseq no acute cardiopulmonary abnormality clear lungs no infiltrates suspicious pulmonary opacity no pleural effusion pneumothora cardiomediastinal silhouette within normal limits endseq startseq no acute cardiopulmonary abnormality clear lungs no infiltrates suspicious pulmonary opacity no pleural effusion pneumothora cardiomediastinal silhouette within normal limits endseq startseq no acute cardiopulmonary abnormality clear lungs no infiltrates suspicious pulmonary opacity no pleural effusion pneumothora cardiomediastinal silhouette within normal limits endseq startseq no acute cardiopulmonary abnormality clear lungs no infiltrates suspicious pulmonary opacity no pleural effusion pneumothora cardiomediastinal silhouette within normal limits endseq startseq no acute cardiopulmonary abnormality clear lungs no infiltrates suspicious pulmonary opacity no pleural effusion pneumothora cardiomediastinal silhouette within normal limits endseq startseq no acute cardiopulmonary abnormality clear lungs no infiltrates suspicious pulmonary opacity no pleural effusion pneumothora cardiomediastinal silhouette within normal limits endseq startseq no acute cardiopulmonary abnormality clear lungs no infiltrates suspicious pulmonary opacity no pleural effusion pneumothora cardiomediastinal silhouette within normal limits endseq startseq no acute cardiopulmonary abnormality clear lungs no infiltrates suspicious pulmonary opacity no pleural effusion pneumothora cardiomediastinal silhouette within normal limits endseq startseq no acute cardiopulmonary abnormality clear lungs no infiltrates suspicious pulmonary opacity no pleural effusion pneumothora cardiomediastinal silhouette within normal limits endseq startseq no acute cardiopulmonary abnormality clear lungs no infiltrates suspicious pulmonary opacity no pleural effusion pneumothora cardiomediastinal silhouette within normal limits endseq startseq no acute cardiopulmonary abnormality clear lungs no infiltrates suspicious pulmonary opacity no pleural effusion pneumothora cardiomediastinal silhouette within normal limits endseq startseq no acute cardiopulmonary abnormality clear lungs no infiltrates suspicious pulmonary opacity no pleural effusion pneumothora cardiomediastinal silhouette within normal limits endseq startseq no acute cardiopulmonary abnormality clear lungs no infiltrates suspicious pulmonary opacity no pleural effusion pneumothora cardiomediastinal silhouette within normal limits endseq startseq no acute cardiopulmonary abnormality clear lungs no infiltrates suspicious pulmonary opacity no pleural effusion pneumothora cardiomediastinal silhouette within normal limits endseq startseq no acute cardiopulmonary abnormality clear lungs no infiltrates suspicious pulmonary opacity no pleural effusion pneumothora cardiomediastinal silhouette within normal limits endseq startseq no acute cardiopulmonary abnormality clear lungs no infiltrates suspicious pulmonary opacity no pleural effusion pneumothora cardiomediastinal silhouette within normal limits endseq startseq no acute cardiopulmonary abnormality clear lungs no infiltrates suspicious pulmonary opacity no pleural effusion pneumothora cardiomediastinal silhouette within normal limits endseq'"
            ],
            "application/vnd.google.colaboratory.intrinsic+json": {
              "type": "string"
            }
          },
          "metadata": {},
          "execution_count": 89
        }
      ]
    },
    {
      "cell_type": "code",
      "source": [
        "# Compute the BLEU score\n",
        "actual_captions = [[caption.split()] for caption in actual_captions]\n",
        "predicted_captions = [caption.split() for caption in predicted_captions]\n",
        "bleu_score = corpus_bleu(actual_captions, predicted_captions)\n",
        "print('BLEU Score:', bleu_score)\n"
      ],
      "metadata": {
        "id": "llErL0lXtQsV",
        "colab": {
          "base_uri": "https://localhost:8080/"
        },
        "outputId": "6a216bf9-ca19-4501-f3e0-4967d8c53046"
      },
      "execution_count": 90,
      "outputs": [
        {
          "output_type": "stream",
          "name": "stdout",
          "text": [
            "BLEU Score: 0.010657507758214578\n"
          ]
        }
      ]
    },
    {
      "cell_type": "code",
      "source": [],
      "metadata": {
        "id": "C29qVPUiNhqF"
      },
      "execution_count": 90,
      "outputs": []
    },
    {
      "cell_type": "code",
      "source": [],
      "metadata": {
        "id": "E2-c1K_JNhtd"
      },
      "execution_count": null,
      "outputs": []
    },
    {
      "cell_type": "code",
      "source": [],
      "metadata": {
        "id": "hd93PiAtNhwO"
      },
      "execution_count": null,
      "outputs": []
    }
  ]
}